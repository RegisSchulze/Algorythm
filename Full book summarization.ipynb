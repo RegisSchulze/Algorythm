{
 "cells": [
  {
   "cell_type": "markdown",
   "metadata": {},
   "source": [
    "# Full book summarization"
   ]
  },
  {
   "cell_type": "markdown",
   "metadata": {},
   "source": [
    "### Import packages"
   ]
  },
  {
   "cell_type": "code",
   "execution_count": 1,
   "metadata": {},
   "outputs": [],
   "source": [
    "from selenium import webdriver\n",
    "from selenium.webdriver.common.keys import Keys\n",
    "from selenium import webdriver\n",
    "from selenium.webdriver.support.ui import WebDriverWait\n",
    "from selenium.webdriver.common.by import By\n",
    "from selenium.webdriver.support import expected_conditions as EC\n",
    "from selenium.webdriver.chrome.options import Options\n",
    "import re\n",
    "import os \n",
    "import wget\n",
    "from transformers import BartTokenizer, BartForConditionalGeneration\n",
    "import torch"
   ]
  },
  {
   "cell_type": "code",
   "execution_count": 2,
   "id": "15fa59fe",
   "metadata": {},
   "outputs": [
    {
     "data": {
      "text/plain": [
       "True"
      ]
     },
     "execution_count": 2,
     "metadata": {},
     "output_type": "execute_result"
    }
   ],
   "source": [
    "torch.cuda.is_available()"
   ]
  },
  {
   "cell_type": "code",
   "execution_count": 3,
   "id": "894a3ade",
   "metadata": {},
   "outputs": [
    {
     "data": {
      "text/plain": [
       "1"
      ]
     },
     "execution_count": 3,
     "metadata": {},
     "output_type": "execute_result"
    }
   ],
   "source": [
    "torch.cuda.device_count()"
   ]
  },
  {
   "cell_type": "code",
   "execution_count": 4,
   "id": "bd500ab9",
   "metadata": {},
   "outputs": [
    {
     "data": {
      "text/plain": [
       "'GeForce RTX 2080 Ti'"
      ]
     },
     "execution_count": 4,
     "metadata": {},
     "output_type": "execute_result"
    }
   ],
   "source": [
    "torch.cuda.get_device_name(0)"
   ]
  },
  {
   "cell_type": "markdown",
   "metadata": {},
   "source": [
    "## 2 methods are created\n",
    "### 1) get_book, with parameter name = name of the book which will download the correct .txt file from https://www.gutenberg.org/ of that book and return a value chapter_folder(containing numbers; ex. 203-0.txt) which is how they named the book on https://www.gutenberg.org/"
   ]
  },
  {
   "cell_type": "code",
   "execution_count": 5,
   "metadata": {},
   "outputs": [],
   "source": [
    "def get_book(name):\n",
    "\n",
    "        # initialise selenium webdriver and open chrometab\n",
    "        PATH = \"/usr/bin/chromedriver\"\n",
    "        driver = webdriver.Chrome(PATH)\n",
    "        driver.maximize_window()\n",
    "\n",
    "        # go to https://www.gutenberg.org/\n",
    "        driver.get(\"https://www.gutenberg.org/\")\n",
    "        driver.implicitly_wait(20)\n",
    "        chapter_folder=''\n",
    "\n",
    "        # search for book with inputed name\n",
    "        driver.find_element(By.ID,'menu-book-search').send_keys(name)\n",
    "        driver.implicitly_wait(20)\n",
    "        \n",
    "        # press go button\n",
    "        element = driver.find_element_by_xpath(\"/html/body/div[1]/nav/div[2]/div/form/input[2]\")\n",
    "        element.click()\n",
    "        driver.implicitly_wait(20)\n",
    "        \n",
    "        # check how many versions of this particular book there are\n",
    "        inputboxes=driver.find_elements(By.CLASS_NAME,'booklink')\n",
    "        \n",
    "        # find all the links on this page; meaning all href tags \n",
    "        elems = driver.find_elements_by_xpath(\"//a[@href]\")\n",
    "        elems_href=[]\n",
    "\n",
    "        # from these links only look for ones containing numbers as these are links to the different book versions\n",
    "        for elem in elems:\n",
    "            if re.search(r'/\\d+', elem.get_attribute(\"href\")):\n",
    "                elems_href.append(elem.get_attribute(\"href\"))\n",
    "        # close chrometab\n",
    "        driver.quit()\n",
    "        \n",
    "        # we have either books that have only one version(one link with numbers) or with several versions (several links with numbers)\n",
    "        # if only one version\n",
    "        if len(elems_href)==1:\n",
    "            link=elems_href[0]\n",
    "            PATH = \"/usr/bin/chromedriver\"\n",
    "            driver = webdriver.Chrome(PATH)\n",
    "            \n",
    "            # go to link of  book\n",
    "            driver.get(link)\n",
    "\n",
    "            # find all links for this book (different formats of book; kindle, html, txt, ...)\n",
    "            elems = driver.find_elements_by_xpath(\"//a[@href]\")\n",
    "            elems_href=[]\n",
    "            for elem in elems:\n",
    "                elems_href.append(elem.get_attribute(\"href\"))\n",
    "            \n",
    "            # we want to download the .txt file of the book\n",
    "            # select links containing .txt\n",
    "            matching = [s for s in elems_href if \".txt\" in s]\n",
    "\n",
    "            # quit chrometab\n",
    "            driver.quit()\n",
    "            \n",
    "            #download .txt file of the particular book\n",
    "            s=r'wget '+matching[0]\n",
    "\n",
    "            # use os package to automate command line excecutions from within a .py file\n",
    "            os.system(s)\n",
    "            \n",
    "            # use chapterize package to chapterize the book\n",
    "            # this returns directory .../Algorythm/{chapter_folder}/\n",
    "            s=r'chapterize '+matching[0].split('/')[-1]\n",
    "\n",
    "            # get the chapter folder name\n",
    "            chapter_folder=matching[0].split('/')[-1].split('.')[0]\n",
    "\n",
    "            #chapterize the book from command line\n",
    "            os.system(s)\n",
    "            \n",
    "        # if more than one version of the book   \n",
    "        else:\n",
    "        \n",
    "        # get the first two book versions, reason for this is that some books have .txt files that are not containing the full book\n",
    "        # books with several versions can also be written in different languages, however the first versions are always english\n",
    "        # so selection of first two versions is done with this in mind\n",
    "            link=elems_href[0]\n",
    "            link2=elems_href[1]\n",
    "        \n",
    "            # open new chrometab\n",
    "            PATH = \"/usr/bin/chromedriver\"\n",
    "            driver = webdriver.Chrome(PATH)\n",
    "            # go to first book version\n",
    "            driver.get(link)\n",
    "\n",
    "            # select all links on this page\n",
    "            elems = driver.find_elements_by_xpath(\"//a[@href]\")\n",
    "            elems_href=[]\n",
    "            for elem in elems:\n",
    "                elems_href.append(elem.get_attribute(\"href\"))\n",
    "\n",
    "            # select .txt version of the book\n",
    "            matching = [s for s in elems_href if \".txt\" in s]\n",
    "\n",
    "            # quit chrometab\n",
    "            driver.quit()\n",
    "\n",
    "            # open new chrometab\n",
    "            PATH = \"/usr/bin/chromedriver\"\n",
    "            driver = webdriver.Chrome(PATH)\n",
    "\n",
    "            # go to second book version\n",
    "            driver.get(link2)\n",
    "            \n",
    "            # select all links on this page\n",
    "            elems = driver.find_elements_by_xpath(\"//a[@href]\")\n",
    "            elems_href=[]\n",
    "            for elem in elems:\n",
    "                elems_href.append(elem.get_attribute(\"href\"))\n",
    "\n",
    "            # select .txt version of the book\n",
    "            matching2 = [s for s in elems_href if \".txt\" in s]\n",
    "\n",
    "            # quit chrometab\n",
    "            driver.quit()\n",
    "        \n",
    "            # extract body of txt file of first book version to get idea of lenght text, to check if its the full version\n",
    "            PATH = \"/usr/bin/chromedriver\"\n",
    "            driver = webdriver.Chrome(PATH)\n",
    "            driver.get(matching[0])\n",
    "\n",
    "            l=driver.find_element_by_css_selector(\"body\")\n",
    "            text=l.text\n",
    "            driver.quit()\n",
    "            \n",
    "            # extract body of txt file of second book version to get idea of lenght text, to check if its the full version\n",
    "            PATH = \"/usr/bin/chromedriver\"\n",
    "            driver = webdriver.Chrome(PATH)\n",
    "            driver.get(matching2[0])\n",
    "\n",
    "            l=driver.find_element_by_css_selector(\"body\")\n",
    "            text2=l.text\n",
    "            driver.quit()\n",
    "\n",
    "            # decide which book version to chose based on book length version 1 and 2\n",
    "            # if first book version long enough\n",
    "            if len(text)/len(text2)>0.7:\n",
    "\n",
    "                #download .txt file of the first book version\n",
    "                s=r'wget '+matching[0]\n",
    "                os.system(s)\n",
    "            \n",
    "                # use chapterize package to chapterize first book version\n",
    "                # this returns directory .../Algorythm/{chapter_folder}/\n",
    "                s=r'chapterize '+matching[0].split('/')[-1]\n",
    "                chapter_folder=matching[0].split('/')[-1].split('.')[0]\n",
    "                os.system(s)\n",
    "            # if first book version not complete book, chose second version\n",
    "            else:\n",
    "                #download .txt file of the second book version\n",
    "                s=r'wget '+matching2[0]\n",
    "                os.system(s)\n",
    "\n",
    "                # this returns directory .../Algorythm/{chapter_folder}/\n",
    "                s=r'chapterize '+matching2[0].split('/')[-1]\n",
    "                chapter_folder=matching2[0].split('/')[-1].split('.')[0]\n",
    "                os.system(s)\n",
    "        \n",
    "        # return name of chapter folder of the chapterized book\n",
    "        return chapter_folder"
   ]
  },
  {
   "cell_type": "markdown",
   "metadata": {},
   "source": [
    "### Working books\n",
    "- Uncle Tom’s Cabin\n",
    "- Madame Bovary\n",
    "- The War of the Worlds"
   ]
  },
  {
   "cell_type": "markdown",
   "metadata": {},
   "source": [
    "### Ask for book name to be summarized"
   ]
  },
  {
   "cell_type": "code",
   "execution_count": 6,
   "metadata": {},
   "outputs": [
    {
     "name": "stdout",
     "output_type": "stream",
     "text": [
      "Name of book:\n",
      "Uncle Tom’s Cabin\n",
      "meer dan 1\n",
      "1025552\n",
      "keuze eerste\n",
      "wget https://www.gutenberg.org/files/203/203-0.txt\n",
      "chapterize 203-0.txt\n",
      "203-0\n"
     ]
    }
   ],
   "source": [
    "chapter_folder=get_book()"
   ]
  },
  {
   "cell_type": "code",
   "execution_count": 7,
   "metadata": {},
   "outputs": [
    {
     "data": {
      "text/plain": [
       "'203-0'"
      ]
     },
     "execution_count": 7,
     "metadata": {},
     "output_type": "execute_result"
    }
   ],
   "source": [
    "chapter_folder"
   ]
  },
  {
   "cell_type": "code",
   "execution_count": 8,
   "metadata": {},
   "outputs": [
    {
     "data": {
      "text/plain": [
       "device(type='cuda')"
      ]
     },
     "execution_count": 8,
     "metadata": {},
     "output_type": "execute_result"
    }
   ],
   "source": [
    "device = torch.device('cuda' if torch.cuda.is_available() else 'cpu')\n",
    "device"
   ]
  },
  {
   "cell_type": "markdown",
   "metadata": {},
   "source": [
    "## 2) method create_summary to create summary of the book with pytorch and Bart"
   ]
  },
  {
   "cell_type": "code",
   "execution_count": null,
   "metadata": {},
   "outputs": [],
   "source": [
    "def create_summary(chapter_folder):\n",
    "        # initialise list that will be appended with each chapter resulting in the full book summary\n",
    "        full_summary=[]\n",
    "        dir_chapters=r'/home/regis/Desktop/Algorythm/Project/Algorythm/'+chapter_folder+'-chapters/' \n",
    "        \n",
    "        # create list that contains all the chapter file paths\n",
    "        files=[]\n",
    "        for filename in os.listdir(dir_chapters):\n",
    "            if filename.endswith(\".txt\"): \n",
    "                files.append(filename)\n",
    "                continue\n",
    "            else:\n",
    "                continue\n",
    "\n",
    "        # sort these file paths as we want our summary to be in correct order; chapter 1 followed by chapter 2, ...\n",
    "        files_sorted=sorted(files)\n",
    "        chapters=[]\n",
    "        for i in files_sorted:\n",
    "            s=r''+dir_chapters+''+i\n",
    "            chapters.append(s)\n",
    "\n",
    "        # summarize on each individual chapter\n",
    "        for i in chapters:\n",
    "            with open(i) as f:\n",
    "\n",
    "                # read content of .txt file of particular chapter \n",
    "                contents = f.read()\n",
    "                model = BartForConditionalGeneration.from_pretrained('facebook/bart-large-cnn')\n",
    "                tokenizer = BartTokenizer.from_pretrained('facebook/bart-large-cnn')\n",
    "                \n",
    "                # tokenize without truncation\n",
    "                inputs_no_trunc = tokenizer(contents, max_length=None, return_tensors='pt', truncation=False)\n",
    "\n",
    "                # get batches of tokens corresponding to the exact model_max_length\n",
    "                chunk_start = 0\n",
    "                chunk_end = tokenizer.model_max_length #  == 1024 for Bart\n",
    "                inputs_batch_lst = []\n",
    "                while chunk_start <= len(inputs_no_trunc['input_ids'][0]):\n",
    "                    inputs_batch = inputs_no_trunc['input_ids'][0][chunk_start:chunk_end]  # get batch of n tokens\n",
    "                    inputs_batch = torch.unsqueeze(inputs_batch, 0)\n",
    "                    inputs_batch_lst.append(inputs_batch)\n",
    "                    chunk_start += tokenizer.model_max_length #  == 1024 for Bart\n",
    "                    chunk_end += tokenizer.model_max_length  # == 1024 for Bart\n",
    "\n",
    "                # generate a summary on each batch\n",
    "                summary_ids_lst = [model.generate(inputs, num_beams=4, max_length=100, early_stopping=True) for inputs in inputs_batch_lst]\n",
    "\n",
    "                # decode the output and join into one string with one paragraph per summary batch\n",
    "                summary_batch_lst = []\n",
    "                for summary_id in summary_ids_lst:\n",
    "                    summary_batch = [tokenizer.decode(g, skip_special_tokens=True, clean_up_tokenization_spaces=False) for g in summary_id]\n",
    "                    summary_batch_lst.append(summary_batch[0])\n",
    "                summary_all = '\\n'.join(summary_batch_lst)\n",
    "                full_summary.append(summary_all)\n",
    "                print(summary_all)\n",
    "                print('=================')\n",
    "        # return list containing full summary of the book\n",
    "        return full_summary"
   ]
  },
  {
   "cell_type": "code",
   "execution_count": 12,
   "metadata": {},
   "outputs": [
    {
     "name": "stderr",
     "output_type": "stream",
     "text": [
      "Token indices sequence length is longer than the specified maximum sequence length for this model (6636 > 1024). Running this sequence through the model will result in indexing errors\n"
     ]
    },
    {
     "name": "stdout",
     "output_type": "stream",
     "text": [
      "Two gentlemen were sitting alone over their wine, in a well-furnished dining parlor, in Kentucky. One of the parties did not seem, strictly speaking, to come under the species. He was a short, thick-set man, with coarse, commonplace features, and that swaggering air of pretension.\n",
      "A young quadroon boy, between four and five years of age, entered the room. His black hair, fine as floss silk,hung in glossy curls about his round, dimpled face. He had a pair of large dark eyes, full of fire and softness, as he peered curiously into the apartment.\n",
      "Eliza was a fine female article, well used to the quick eye of the trader. Her dress was of the neatest possible fit, and set off to advantage her finely moulded shape. The boy bounded toward her, showing his spoils, which he had gathered in the skirt of his robe. “I was looking for Harry, please, sir;” said the boy.\n",
      "Haley was talking to Mr. Shelby, a trader in Natchez, Mississippi, about the finest droves of niggers that are brought in to the country. He said he had been laughed at for his notions, but stuck to them, and realized well on ’em. ‘It’s strange, now, but I never could beat this into people's heads. I used to talk to Tom Loker, my old partner, down in Nat\n",
      "“I’m afraid mine are not properly brought up, then,” said Mr. Shelby. “I think I treat niggers just about as well as it’s ever worth while to treat ’em.” “You Kentucky folks spile your niggers, but ’tan’t no real kindness, arter all,’ said Haley. ‘Tan’n’as if it was white folks, that\n",
      "Eliza heard a trader talking with her master in the parlor. She thought she heard the trader make an offer for her boy. Her heart swelled and throbbed. She sat down in a chair, and began sobbing. “Why, Eliza child, what ails you?” said her mistress.\n",
      "Mrs. Shelby was a woman of high class, both intellectually and morally. She had high moral and religious sensibility and principle, carried out with great energy and ability. Her husband, who made no professions to any particular religious character, neverthelessreverenced and respected the consistency of hers.\n",
      "=================\n"
     ]
    },
    {
     "name": "stderr",
     "output_type": "stream",
     "text": [
      "Token indices sequence length is longer than the specified maximum sequence length for this model (1869 > 1024). Running this sequence through the model will result in indexing errors\n"
     ]
    },
    {
     "name": "stdout",
     "output_type": "stream",
     "text": [
      "Eliza had been brought up by her mistress, from girlhood, as a petted and indulged favorite. She had been married to a bright and talented young mulatto man, who was a slave on a neighboring estate. George Harris had been hired out by his master to work in a bagging factory, where his adroitness and ingenuity caused him to be considered the first hand.\n",
      "The tyrant observed the whisper, and conjectured its import. He inwardly strengthened himself in his determination to keep the power he possessed over his victim. George was taken home, and put to the meanest drudgery of the farm. He had been able to repress every disrespectful word, but the flashing eye, the gloomy and troubled brow, were part of a natural language that could not be repressed.\n",
      "=================\n"
     ]
    },
    {
     "name": "stderr",
     "output_type": "stream",
     "text": [
      "Token indices sequence length is longer than the specified maximum sequence length for this model (3479 > 1024). Running this sequence through the model will result in indexing errors\n"
     ]
    },
    {
     "name": "stdout",
     "output_type": "stream",
     "text": [
      "The Husband and Father of Eliza Shelby. Eliza stood in the verandah, dejectedly looking after the retreating carriage. She turned, and a bright smile lighted up her                fine eyes. “George, is it you? How you frightened me! Well; I am so glad you ’s autoimmunecome! Missis is gone to spend the afternoon.”\n",
      "Eliza's husband, George, was in a dark mood when he told her of his troubles. He said that he had been whipped by a young man, and that the man had tied him to a tree and cut switches for him. George said that the young man had threatened to kill him if he didn't obey him. Eliza said that she had never seen her husband in such a mood before.\n",
      "Eliza's husband, George, is not a Christian like her. He hates Mr. Shelby and all his tribe. He says he won’t let me come here any more, and that I shall take a wife and settle down on his place. He told Eliza that she should take Mina for a wife, or he would sell her down river. She looked nervously out on the grotesqueverandah.\n",
      "George told Eliza of his plan to kill himself. Eliza begged him not to do anything wicked. George said he would. They stood silent for a time. Then there were last words, and sobs, and bitter weeping. The husband and wife were parted.\n",
      "=================\n"
     ]
    },
    {
     "name": "stderr",
     "output_type": "stream",
     "text": [
      "Token indices sequence length is longer than the specified maximum sequence length for this model (7929 > 1024). Running this sequence through the model will result in indexing errors\n"
     ]
    },
    {
     "name": "stdout",
     "output_type": "stream",
     "text": [
      "An evening in Uncle Tom’s Cabin. The cabin of Uncle Tom was a small log building, close adjoining to “the house,” as the negro _par excellence_ designates his master’’dwelling. In front it had a neat garden-patch, where, every summer, strawberries, raspberries, and a variety of fruits and vegetables, under careful tending, were the delight and pride of Aunt Chloe.\n",
      "A table, somewhat rheumatic in its limbs, was drawn out in front of the                fire, and covered with a cloth. At this table was seated Uncle Tom, Mr. Shelby’s best hand, who, as he is to be the hero of our story, we must daguerreotype for our                readers. He was a large, broad-chested, powerfully-made man, of a full-glossy black, and a face\n",
      "“Now for the cake,” said Mas’r George, when the activity of the griddle had somewhat subsided. “Tom Lincon says,’ said George, speaking with his mouth full, “that their Jinny is a better cook than you.” “Dem Lincons an’t much count, no way!” says Aunt Chloe, contemptuously.\n",
      "“I says to him, ‘Tom, you ought to see some of Aunt purposefullyChloe’s pies; they’re the right sort,’ says I.” “Pity, now, Tom couldn’t,” said Aunt Chloe, on whose benevolent heart seemed to make a strong impression. “Ye oughter just ask him here to dinner, some o’ these times, Mas’r George,\n",
      "Aunt Chloe made a pile of cakes for George and Tom, and gave them to Mose and Pete, who rolled about on the floor under the table, tickling each other, and occasionally pulling the baby’s toes. “Can’t ye be decent when white folks comes to see ye? Better mind yerselves, or I’ll take ye down a button-hole lower, when Mas’r George is gone!”\n",
      "-bed; “and now, you Mose and you Pete, get into thar; for we's goin' to have the meetin'” “O mother, we don’t wanter. We wants to sit up to meetin’,\" said Mose. “La, Aunt Chloe, shove it under, and let ’em sit up,” said Mas’r George, decisively, giving a push to\n",
      "Mas’r George, by request, read the last chapters of Revelation, ofteninterrupted by such exclamations as “The _sakes_ now!” “Only hear that!’ “ “Jest think on ’t!“ ”Is all that a comin’ sure enough?”\n",
      "The trader and Mr. Shelby were seated together in the dining room of a man called Haley. Haley was a minister, and his style was simple and sincere, but it was in prayer that he especially excelled. Nothing could exceed the touching simplicity, the childlike childlikeness, of his prayer, enriched with the language of Scripture.\n",
      "=================\n"
     ]
    },
    {
     "name": "stderr",
     "output_type": "stream",
     "text": [
      "Token indices sequence length is longer than the specified maximum sequence length for this model (5655 > 1024). Running this sequence through the model will result in indexing errors\n"
     ]
    },
    {
     "name": "stdout",
     "output_type": "stream",
     "text": [
      "Mr. and Mrs. Shelby had retired to their apartment for the night. Mr. Shelby was lounging in a large easy-chair, looking over some letters that had come in the afternoon mail. His wife was brushing out the complicated braids and curls in which Eliza had meticulouslyarranged her hair. She said, carelessly, “By the by, Arthur, who was that low-bred fellow that you lugged in to our dinner-table today?�\n",
      "“My dear,” said Mrs. Shelby, recollecting herself, “forgive me. I have purposefully been hasty. I was surprised, and entirely unprepared for this.” “Surely you will allow me to intercede for these poor creatures. Tom is a noble-hearted, faithful fellow, if he is black. I do believe he would lay down his life for you.’ “I’m sorry you feel\n",
      "Mr. and Mrs. Shelby were discussing the sale of their daughter-in-law's house. Mr. Shelby said he did not want to hear any more sermons from Mr. B. Haley. The wife said she would sacrifice anything she had to save Eliza's child.\n",
      "Eliza's home was a happy one, but there, on the bed, lay her slumbering boy. “Poor boy! poor fellow!” said Eliza; “they have sold you! but your                mother will save you yet!’\n",
      "Meet were not yet asleep when they heard a loud bang at the door. Aunt Chloe and Uncle Tom looked at each other in dismay. Eliza told them that Master Mas had sold her and her husband Harry to a trader. Tom stood with his hands raised, and his eyes slowly raised and looked sorrowfully around. He then collapsed, rather than seated himself, on his oldchair.\n",
      "ulsively. “Mas’r always found me on the spot,’ he said. ‘I never have broke trust, nor used my pass no ways contrary to my word, and I never will. It’s better for me alone to go,                than to break up the place and sell all.’ “Call Bruno in there,” she added, “Shut the door on him, poor beast! Hemustn’\n",
      "=================\n"
     ]
    },
    {
     "name": "stderr",
     "output_type": "stream",
     "text": [
      "Token indices sequence length is longer than the specified maximum sequence length for this model (6396 > 1024). Running this sequence through the model will result in indexing errors\n"
     ]
    },
    {
     "name": "stdout",
     "output_type": "stream",
     "text": [
      "Eliza Shelby, the daughter of a wealthy trader, has fled from her home. Her husband, Mr. Shelby, and his wife, Andy, were shocked to discover the truth. The young imps on the verandah were not disappointed in their hope of hearing him “swar,” which he did with a ferocious fervency.\n",
      "“Mr. Haley, Mrs. Shelby is present,” said Mr. Shelby. “I regret to say that the young woman, excited by overhearing, or having reported to her, something of this business, has taken her child in the night, and made                off.”“I did expect fair dealing in this matter, I confess,’ said Haley.“If any man calls my honor in question, I have but one answer for\n",
      "Black Sam, a negro, was asked to cotch Bill and Jerry by Mas’r Haley. “You teach your granny!” said Sam, with infinite contempt; “knowed it a progressivelyheap sight sooner than you did; this nigger an’t so green, now!’ “I’d a said that Missis would a scoured the varsal world after Lizy,” added Sam\n",
      "Sam Shelby was told to go with Mr. Haley to a vacant place at St. James’ or Washington. He rode with Bill and Jerry in a full canter, and adroitly threw himself off before they had any idea of stopping. He brought them up alongside of the                horse-post like a tornado. Haley’s horse, a skittish young                colt, winced and bounced, and pulled hard at his halter.\n",
      "Haley’s horse, which was a white one, and very fleet and spirited, appeared to enter into the spirit of the scene with great gusto. The instant Haley touched the saddle, the mettlesome creature bounded from the earth with a sudden spring, that threw his master sprawling, some feet off. Sam, with frantic ejaculations, made a dive at the reins, but only succeeded in brushing the blazing palm-leaf afore-named into the horse’\n",
      "Haley and Sam were walking the horses to dinner, when they came across a horse reeking of sweat. The horse was cotched, and the two men went to wash him down. Sam, in a deprecating tone, said that he thought Haley was trying to kill them all. The two men laughed to their heart's content.\n",
      "in’? Didn’t I see what Missis wanted,                though she never let on? Dat ar’s bobservation, Andy. I ’spects it”s what you may call a faculty. Faculties is different in different people, but cultivation of ’em goes a great way.”\n",
      "=================\n"
     ]
    },
    {
     "name": "stderr",
     "output_type": "stream",
     "text": [
      "Token indices sequence length is longer than the specified maximum sequence length for this model (8856 > 1024). Running this sequence through the model will result in indexing errors\n"
     ]
    },
    {
     "name": "stdout",
     "output_type": "stream",
     "text": [
      "Eliza's husband's suffering and dangers, and the danger of her child, all blended in her mind. She strained him to her bosom with aconvulsive grasp, as she went rapidly forward. The frosty ground creaked beneath her feet, and she trembled at the quaking leaf.\n",
      "Eliza's plan was to escape across the Ohio river. She was many miles past any neighborhood where she was personally known. As she was also so white as not to be known as of coloredlineage, and her child was white also, it was much easier for her to pass on unsuspected.\n",
      "Eliza, who had been walking all day to get to the ferry, was stopped by a woman. The woman asked Eliza if she had anybody sick. Eliza said she had a dangerous child, and that she was trying to take him to a man who would tote him over to supper. The man said he would try, if it was prudent.\n",
      "“Chil’en!” said a voice, that made them all start. It was Uncle Tom, who had come in, and stood listening to the conversation at the door. Aunt Chloe covered her face with her checked apron, and began to sob in good earnest. “Don’t tear der suckin’ baby right off his mother’s breast, and sell him,’ said Aunt Chloe, beginning to cry, “\n",
      "Tom Shelby was eight years old when ole Missis put you into my arms, and you wasn’t a year old. ‘Tom, that’s to be _your_ young Mas’r; take good care on him,’ says she. “And sure as I am a Christian woman,” said Mrs. Shelby, “you shall beredeemed as soon as I can any way bring together means.”\n",
      "Haley, notwithstanding that he was a very old bird, and naturally.inclined to be suspicious of chaff, was rather brought up by this view of the case. He asked Sam and Andy when they should come to it, and asked them to come to the other side of the estate when they were ready. He said he would take the straight road to the river, while Sam suggested a dirt road.\n",
      "Haley, accustomed to strike the balance of probabilities between lies, thought that it lay in favor of the dirt road aforesaid. Andy wasn’t certain; he’d only “hearn tell” about that road, but never “been over it.” Eliza laid her child to sleep in the same place that the party had riding into the village. The road, in fact, was an old one, that had formerly been athorough\n",
      "Eliza caught her child, and caught a full glimpse of her just as she was disappearing down the bank. She leaped over the turbid current by the shore, on to the raft of ice beyond. It was a desperate leap—impossible to anything but madness and despair. She recognized the voice and face for a man who owned a farm not farfrom her old home.\n",
      "“The gal’s got seven devils in her, I believe!” said Haley. “How like a wildcat she jumped!’ said Sam. � “Lord bless you, Mas’r, I couldn’t help it now,” says Sam, giving way to the long pent-up delight of his soul.\n",
      "=================\n"
     ]
    },
    {
     "name": "stderr",
     "output_type": "stream",
     "text": [
      "Token indices sequence length is longer than the specified maximum sequence length for this model (11247 > 1024). Running this sequence through the model will result in indexing errors\n"
     ]
    },
    {
     "name": "stdout",
     "output_type": "stream",
     "text": [
      "Eliza made her desperate retreat across the river just in the dusk of dusk. A brawny, muscular man, full six feet in height, was standing by the bar. He was dressed in a coat of buffalo-skin, which gave him a shaggy and fierce appearance.\n",
      "Marks, Loker, and Haley sat down at a table in the parlor of Loker’s house. Marks began a pathetic recital of his peculiar troubles. Loker shut up his mouth, and listened to him with gruff and surly attention. Marks, who was anxiously and with much fidgeting compounding a tumbler of punch, gave the most earnest heed to the whole narrative.\n",
      "“Wal, jest so with me,” said Haley. “Last summer, down on Red River, I                got a gal traded off on me, with a likely lookin’ child enough, and his eyes looked as bright as yourn; but, come to look, I found him stone blind.” “Boh!’ said Tom Loker, “don’t I know with me too sick by this? I\n",
      "“I b’lieve in religion, and one of these days, when I’ve got matters tight and snug, I calculates to tend to my soul and them ar matters,” said Mr. Haley. “I can stand most any talk o’ yourn but your pious talk, that kills me right up.” “Come, come, gentlemen, I say; this isn’t business,’ said Marks. �\n",
      "“Ye see,” said Marks to Haley, stirring his punch as he did so, “we has justices convenient at all p’ints along shore, that does up any little jobs in our line quite reasonable.” “But, gentlemen, an’t I to come in for a share of the profits?’ said Haley. “An’n it enough we catch the boy for ye?” says Loker. �\n",
      "“I want, by a long jump,” said Tom. “Ye don’t think I                did business with you, down in Natchez, for nothing, Haley; I’ve                learned to hold an eel, when I catch him.” “Why, when you have a job in hand that may bring a clean profit of. about a thousand or sixteen hundred, why, Tom, you’re onreasonable\n",
      "“I heard the woman say there was one coming along this evening, and that a man was going to cross over in it. Neck or nothing, we must go with him,” said Tom. “Here’s her shawl she left on the bed in her hurry; she left her bonnet, too.” “Our dogs tore a feller half-to pieces, once, down in Mobile, ’fore we could get �\n",
      "“There’s an awful feeling of guilt about it, though,” said Mrs. Shelby. “Here, Andy, you nigger, be alive!” called Sam, under the verandah; “take these yer hosses to der barn; don’t ye hear Mas’r a callin’?”\n",
      "Sam Shelby told his story to his wife, Mrs. Shelby, of the incident with Lizy and Mas’r Haley. “God be praised, she isn’t dead!” she said; “but where is the poor child now?” “De Lord will pervide,” said Sam, rolling up his eyes piously, “as I’ve been a sayin’, dis yer ’\n",
      "Sam considered oratory as his                vocation, and never let slip an opportunity of magnifying his office. Between Sam and Aunt Chloe there had existed, from ancient times, a sort of chronic feud, or rather a decided coolness. Sam decided to be eminently conciliatory; for he well knew that although “Missis’ orders” would undoubtedly be followed to the letter, yet he should gain a considerable deal by enlisting the spirit also.\n",
      "“Niggers! all on yer,” said Sam, waving his palm-leaf with benignity. “What’s principles good for, if we isn’t persistent, I wanter know? Thar, Andy, you may have dat ar bone,—tan’n picked quite clean.”\n",
      "=================\n"
     ]
    },
    {
     "name": "stderr",
     "output_type": "stream",
     "text": [
      "Token indices sequence length is longer than the specified maximum sequence length for this model (10559 > 1024). Running this sequence through the model will result in indexing errors\n"
     ]
    },
    {
     "name": "stdout",
     "output_type": "stream",
     "text": [
      "In which It Appears That a Senator Is But a Man and Not a Politician. The story of Senator Bird and his wife is told in an intimate setting. Mrs. Bird was a timid little woman, with mild blue eyes and a peach-blow-blow voice. Her husband and children were more entreaty and arousing by command or argument.\n",
      "“I’ll tell you what,” Master Bill used to say, “we boys never stoned another kitten!” “Obeying God never brings on public evils. I know it can’t. It’s alwayssafest, all round, to _do as He_ bids us”\n",
      "John Bird, a senator from New York, was called to his wife's house. His wife, a colored woman, was in a state of agony. She was bleeding from a cut on her foot. Her husband, a black man-of-all-work, was at her side. Mr. Bird tried to reason with his wife.\n",
      "“God bless you!” said the woman, covering her face and sobbing; while the little boy, seeing her crying, tried to get into her lap. “When she wakes up and feels a little rested, we will see,’ said Mrs. Bird, “We’ll see.”\n",
      "The woman looked up at Mrs. Bird, with a keen, scrutinizing glance, and it did not escape her that she was dressed in deep mourning. “Ma’am,” she said, suddenly, “have you ever lost a child?” “No, sir—no! my mistress was always good to me.”\n",
      "A woman tells her husband that her husband is threatening to sell her to another man. Her husband says she must get away from the house, this very night. The woman says she is going to Canada, which is not very far off. The husband says he will help her get there, but it will take some time.\n",
      "“Your heart is better than your head, in this case, John,” said the wife of a senator. “Could I ever have loved you, had I not known you better than you know yourself?” “I’m thinking I shall feel rather cheap there, after all that’s been said and done; but, hang it, I can’t help it!”\n",
      "Mary Bird, the wife of a U.S. senator, was visiting her daughter-in-law, Eliza, in Kentucky. Mrs. Bird was sleeping, but her husband woke her at the sound of the doorbell. She rushed to the door, where she was met by Eliza and her child. Eliza was distraught, and could not speak.\n",
      "The story is of a man who had to pull his carriage out of a mud hole. The hero was John Van Trompe, an old man with a beard of some growth. The story is told from the point-of-view of a young woman and her child.\n",
      "owner andslave-owner in the State of Kentucky. Having “nothing of the bear abouthim but the skin,” and being gifted by nature with a great, honest, just heart, quite equal to his gigantic frame. He bought a quarter of a township of good, rich land, made out free papers for all his people, packed them up inwagon, and sent them off to settle down.\n",
      "“Ye’d better jest put up here, now, till daylight,” said he, heartily, “and I’ll call up the old woman, and have a bed got ready for you in no time.” “Ay, ay,’ said John, with equal conciseness. “That road’s mighty bad.’\n",
      "=================\n"
     ]
    },
    {
     "name": "stderr",
     "output_type": "stream",
     "text": [
      "Token indices sequence length is longer than the specified maximum sequence length for this model (7020 > 1024). Running this sequence through the model will result in indexing errors\n"
     ]
    },
    {
     "name": "stdout",
     "output_type": "stream",
     "text": [
      "The February morning looked gray and drizzling through the window of                Uncle Tom’s cabin. The little table stood out before the fire, covered with an                ironing-cloth; a coarse but clean shirt or two, fresh from the iron, hung on the back of a chair by the fire. Aunt Chloe rubbed and ironed every fold and every hem, with the most scrupulous exactness. Tom sat by, with his Testament open on his knee, and\n",
      "Hamlet, Act III, scene I, lines 369-370. A missionary figure among the fugitives in Canada told us that they were induced to brave the perils of escape by the desperate horror with which they regarded being sold south. Selling to the south is set before the negro from childhood as the last severity of punishment. The African is not naturally daring and enterprising, but home-loving andaffectionate.\n",
      "Aunt Chloe and the boys were eating breakfast when Mrs. Shelby came in. She looked pale and anxious, and began to sob. The boys, seeing their mother and their father looking very sad, began to whimper and put their hands to their eyes. They all wept together, the high and the lowly, melted away all heart-burnings and anger.\n",
      "Tom Shelby was sold to a trader by Mas’r George, who was not at home at the time. The trader had sold Tom under the spur of a driving necessity, to get out of the power of a man whom he dreaded. After the consummation of the bargain, his first feeling had been that of relief. But his wife’s expostulations awoke his half-slumbering regrets.\n",
      "Haley, a smith, was talking to Tom Lincon, who was being taken to a sugar plantation. Tom was sitting on the outside of the shop while this conversation was going on. Suddenly he heard the quick, short click of a horse’s hoof behind him. Master George sprang into the wagon, threw his arms around his neck, and was sobbing.\n",
      "“Can’t help it! I say it’s a shame! Look here, Uncle Tom,” said he, turning his back to the shop, and speaking in a mysterious tone. “I’ve                brought you my dollar!” “O! I couldn't think o’ takin’ on ’t, Mas’r George, no ways in the world!’ said Tom, quite moved\n",
      "“I should think you’d be ashamed to spend all your life buying men and women, and chaining them, like cattle,” said the trader. “I’ll never do either, when I’m a man,’ said George; ‘I always was proud of it before;’ and George sat very straight on his horse, and looked round with an air.\n",
      "=================\n"
     ]
    },
    {
     "name": "stderr",
     "output_type": "stream",
     "text": [
      "Token indices sequence length is longer than the specified maximum sequence length for this model (9052 > 1024). Running this sequence through the model will result in indexing errors\n"
     ]
    },
    {
     "name": "stdout",
     "output_type": "stream",
     "text": [
      "In Which Property Gets into an Improper State of Mind we look at the case of a Kentuckian hotel. A traveler alighted at the door of a small country hotel, in the village of N——, in Kentucky. In the barroom he found assembled quite a miscellaneous company, whom stress of weather had driven to harbor.\n",
      "An old gentleman saw an advertisement for a mulatto boy, and decided to buy him. He read it from end to end in a low voice, as if he were studying it. He then proceeded to storm one of the fire-irons with a degree of military talent sufficient to take a city.\n",
      "“These yer knowin’ boys is allers aggravatin’ and sarcy,” said a coarse-looking fellow, from the other side of the room. “It’s a hard squeeze gettin’em down into beasts,’ said the drover, dryly. � “Bright niggers isn’t no kind of ’vantage to their masters” “Better send orders up to the Lord,\n",
      "George Butler, of Oaklands, Shelby County, Kentucky, was given a private apartment by the landlord. He sat down with the landlord, Mr. Wilson, and entered into conversation with the man who sat next to him. He seemed to himself to have met and been acquainted with him somewhere, but he could not recollect. The stranger looked at the stranger with an air of blankipientamazement and alarm.\n",
      "A man who was running away from his lawful master said to his friend: “I’m sorry, George, I think I must say that, George—it’s my duty to tell you so.” “Why are you sorry, sir?” said George, calmly. “To see you, as it were, setting yourself in opposition to the laws of your country,” replied the man. � “_My_ country\n",
      "“Why, George, this state of mind is awful; it’s getting really                desperate George. I’m concerned. Going to break the laws of your                country!” “My country again! Mr. Wilson, _you_ have a country; but what country have you been born in? What laws are there for us?”\n",
      "“I never knew what peace or comfort was. I never had a kind word spoken to me till I came to work in your factory. Mr. Wilson, you treated me well; you encouraged me to do well. Then, sir, I found my wife; you’ve seen her. When I found she loved me, when I married her, I was so happy. But now what? Why, now comes my master, takes me right away from my work,\n",
      "An old man gave a young man a large sum of money. The young man said he was going to travel to Ohio with the man. The old man warned the young man not to go too far, as he could be taken. The two men met in a tavern, where the old man told him his story.\n",
      "“There isn’t, on earth, a living soul to care if I die,” said the old man. “I’ve seen things all my life that have made me feel that there can't be a God.” “There’s a God for you, but is there any for us?”\n",
      "=================\n"
     ]
    },
    {
     "name": "stderr",
     "output_type": "stream",
     "text": [
      "Token indices sequence length is longer than the specified maximum sequence length for this model (11160 > 1024). Running this sequence through the model will result in indexing errors\n"
     ]
    },
    {
     "name": "stdout",
     "output_type": "stream",
     "text": [
      "Select Incident of Lawful Trade: The Case of Tom Haley and Hagar, the Negro, in Kentucky. Mr. Haley and Tom jogged onward in their wagon, each, for a time,absorbed in his own reflections. He thought of how humane he was, that whereas other men chained their “niggers’ hand and foot both, he only put fetters on the feet, and left Tom the use of his hands, as long as\n",
      "Haley and Tom spent the night in a tavern and a jail, respectively. The next day they went to an auction in Washington. They saw a woman and a boy who were to be sold together. The boy was the only remaining member of a large family. The woman was partially blind, and somewhat crippled with autoimmune disease.\n",
      "Auctioneer, calling out to clear the way, announced that the sale was about to commence. A place was cleared, and the bidding began. The different men on the list were soon knocked off at prices which showed a pretty brisk demand in the market. The bidding for the poor old creature was summary. The auctioneer, gruffly, pushing her hands away, said “you come last. Now, darkey, spring”\n",
      "Haley, with his possessions, safely deposited on one of the Ohio boats. It was the commencement of his gang, to be augmented by various other merchandise of the same kind. The La Belle Riviere, as brave and beautiful a boat as ever walked the namesake river, was floating gayly down the stream.\n",
      "“We can’t reason from our feelings to those of this class of persons,” said the other lady, sorting out some worsteds on her lap. “I was born and brought up among them. I know they _do_ feel, just as keenly,—even more so, perhaps,—as we do.” “It’s undoubtedly the intention of Providence that the African race should be servants,’ said a grave-looking\n",
      "Haley made a turn or two or two, and then, coming up about the boat, came up, seated near her, and veered off with great vehemence. “How can you, how dare you, carry on a trade like this? Look at those poor creatures! Here I am, rejoicing in my heart that I am going home to my wife and child,” said John the drover.\n",
      "A woman was on a boat with her baby and a trader. The trader showed her a bill of sale, signed by John Fosdick. The man said he had sold the woman to a man named Mas’r. The woman became very agitated, and the trader tried to calm her down. But the man said it was no mistake.\n",
      "“I’ve got a good place for raisin’, and I thought of takin’ in a little more stock,” said the man. “They won’t want the young ’un on the plantation.” “He’s a pretty smart young �’un, straight, fat, strong; flesh as hard as a brick!’ “ “I could raise that ar chap myself,\n",
      "The woman had been sitting with her baby in her arms, nowWrapped in a heavy sleep. When she heard the name of the place called                Louisville, she hastily laid the child down in a little cradle. She sprung to the side of the boat, in hopes that, among the hotel-waiters who thronged the wharf, she might see her husband. In this hope, she pressed forward to the front rails, and, stretching far over them, strained\n",
      "A woman was found dead in a box on a boat in the Delaware River. The boat's owner, Tom Stowe, watched the whole transaction from first to last. Stowe wrote a letter to his wife describing the woman's plight. The letter was published in 1873 in the first edition of Stowe’s novel, The Turn of the Screw.\n",
      "The trader searched the boat from stem to stern, among boxes, bales and Barrels, around the machinery, by the chimneys, in vain. “Now, I say, Tom, be fair about this yer,” he said, when, after a fruitless search, he came where Tom was standing. Tom made no response.\n",
      "=================\n"
     ]
    },
    {
     "name": "stderr",
     "output_type": "stream",
     "text": [
      "Token indices sequence length is longer than the specified maximum sequence length for this model (5657 > 1024). Running this sequence through the model will result in indexing errors\n"
     ]
    },
    {
     "name": "stdout",
     "output_type": "stream",
     "text": [
      "The Quaker Settlement in Kentucky was founded by Simeon Halliday and his wife, Eliza, in 1852. The story of Eliza’s life is told from the point of view of her daughter, Rachel Halliday, who now lives in Canada with her husband and two children.\n",
      "Ruth Stedman, a little Quaker woman, came to the home of her friend, Rachel. She had a little boy, Harry, with her, but he was not there at the time. She was busy with a little girl, Mary, who had a baby in her arms. Eliza Harris, a short, round, pin-cushiony woman, was also at the house. She told Rachel that she had dreamed of a man coming into the yard\n",
      "Ruth and Simeon Halliday were visiting their daughter, Abigail Peters, and her husband, John Stebbins. They were told that Eliza’s husband, George Harris, was in the settlement, and would be with them tonight. They decided to tell Ruth, and told her to come over to their house.\n",
      "Eliza Halliday's husband Simeon has escaped from the house of bondage. He will be brought here tonight, says Rachel Halliday, Eliza's daughter. Eliza dreams of a beautiful country land, with a kind of sunshine shimmering down on her.\n",
      "The next morning was a cheerful one at the Quaker house. “Mother” was surrounded by busy girls and boys, whom we had scarce time to introduce to our readers yesterday. While John ran to the spring for fresh water, and Simeon the second siftedmeal for corn-cakes, and Mary ground coffee, Rachel moved gently, andquietly about, making biscuits.\n",
      "“Thee mustn’t speak evil of thy rulers, Simeon,” said his father. “The Lord only gives us our worldly goods that we may do justice and mercy. If our rulers require a price of us for it, we must deliver it up.” “Well, I hate those old slaveholders!’ said the boy, who felt as worrisome as any modern reformer.\n",
      "=================\n"
     ]
    },
    {
     "name": "stderr",
     "output_type": "stream",
     "text": [
      "Token indices sequence length is longer than the specified maximum sequence length for this model (6321 > 1024). Running this sequence through the model will result in indexing errors\n"
     ]
    },
    {
     "name": "stdout",
     "output_type": "stream",
     "text": [
      "The Mississippi is described by Chateaubriand as a river of mighty, unbroken solitudes, rolling amid undreamed-of vegetable and animal existence. The river is higher than New Orleans, and rolls its tremendous volume between massive levees twenty feet in height. The traveller from the deck of the steamer overlooks the whole country for miles around.\n",
      "The writer was on a boat with his wife and young daughter. He was reading a Bible to his children, who were also on the boat. The Bible was marked through, from one end to the other, with a variety of styles and designations. He could in a moment seize upon his favorite passages without the labor of spelling out what lay between them.\n",
      "The little one was not what you would have called either a grave child or a sad one. She was always in motion, always with a half smile on her rosy mouth, with an undulating and cloud-like tread. Her father and female guardian were incessantly busy in pursuit of her. But, whencaught, she melted from them again like a summer cloud.\n",
      "Eva and her father were standing together by the railings to see the steamer start from the landing-place. The little one lost her balance and fell sheer over the side of the boat into the water. Her father, scarce knowing what he did, was plunging in after her, but was held back by some behind him.\n",
      "“All the moral and Christian virtues bound in black Morocco, complete!” said the young man. “How cheap could you afford to let him go, to oblige a young lady that’s particular sot on him?” “Wal, now, just think on �’t,’ said the trader, “just look at them                limbs, certainly certainly broad-chested, strong as a horse.”\n",
      "“I’m not sure, after all, about this religion,” said he, the old wicked expression returning to his eye. “I don’t know, either, about religion’s being up in the market, just now. I have not looked in the papers lately, to see how it sells. How many hundred dollars, now, do you put on for this religion?” “You like to be jokin, now\n",
      "I’ve heard that story before, Tom; but then we’ll see. It will be a                special accommodation to all concerned, if you don’t. Never mind, my                boy,” he added, good-humoredly, seeing Tom still looked grave. “I don't                doubt you mean to do well.”\n",
      "=================\n"
     ]
    },
    {
     "name": "stderr",
     "output_type": "stream",
     "text": [
      "Token indices sequence length is longer than the specified maximum sequence length for this model (10277 > 1024). Running this sequence through the model will result in indexing errors\n"
     ]
    },
    {
     "name": "stdout",
     "output_type": "stream",
     "text": [
      "Augustine St. Clare was the son of a wealthy planter of Louisiana. His talents were of the very first order, although hismind showed a preference always for the ideal and the æsthetic. He saw and won the love of a high-minded and beautiful woman, in one of the northern states. He returned south to make arrangements for their marriage, when, most unexpectedly, his letters were returned to him by mail.\n",
      " Augustine St. Clare’s wife, Marie, had a mind diseased. She had never possessed much capability of affection, or much sensibility, and the little that she had, had been merged into a most intense and unconscious selfishness. Augustine was glad in his heart that he had married a woman so undiscerning a woman; but as the glosses and civilities of the honeymoon wore away, he discovered that a beautiful woman, who has lived all her life to\n",
      "Miss Ophelia St. Clare lived in Vermont with her husband and three daughters. Her husband feared that with no one to look after her and attend to her, her health and life might yet fall a sacrifice to her mother’sinefficiency. She lived in an air of order and stillness, of perpetuity and unchangingrepose.\n",
      "Ophelia St. Clare, a young woman from New York, decided to go to Orleans with her cousin. It was known at the minister's and at the doctor’s that she was “talking about” going to the heathen place. She was invited out to tea by all her friends and neighbors, and her prospects and plans duly canvassed.\n",
      "Miss Ophelia was the absolute bond-slave of the “path of duty,” as she commonly phrased it, and fire and water could not keep her from it. She would walk straight down into a well, or up to a loaded cannon’s mouth, if she were only quite sure that there the path lay. Her standard of right was so high, so all-embracing, so minute, and making so few concessions to human frailty\n",
      "“Mercy on us, child,—what a way!” said Eva. “It was a very easy way, aunty,” she said. The boat now began, with heavy groans, like some vast, tired monster, to push up among the multiplied steamers.\n",
      "St. Clare’s House was a Moorish mansion in New Orleans. It was surrounded by a beautiful court of flowers. St. Clare and Miss Ophelia went there to visit his cousin Vermont. The carriage was full of gifts for Miss Vermont, including a carpet-bag and boxes of books.\n",
      "St. Clare came in with his wife, embraced his orthodox wife, and then presented to his cousin Marie. A crowd of servants pressed to the door, and among them a mulatto woman, a very respectable woman of very respectable age. St. Clare, who was in heart a poetical voluptuary, smiled as Miss Ophelia made her remark on his premises, and, turning to Tom, he said, “Tom, my boy, this seems to suit you\n",
      "Miss Ophelia was delighted to see St. Clare and his wife, and to meet Mas’r and his family. The whole assemblage, dark and light, disappeared through a door into a large verandah, followed by Eva, who carried a large satchel, filled with apples, nuts, candy, ribbons, laces, and toys of every description.\n",
      "“He’s a perfect behemoth!” said Marie. “I know he’ll get drunk,” she said. ‘I hope he may turn out well,’ said the lady; “it’m more than I expect, though.” “You know I’ve been lying all day with the sick-headache; and there's been such a tumult made ever since you came, I�\n",
      "\"Take her to her chamber, and be sure she is made comfortable,\" says Mammy. \"Rest, rest, rest,\" says Ophelia. \"I will see you in the morning,\" adds Mammy, and she disappears in the rear of the house.\n",
      "=================\n"
     ]
    },
    {
     "name": "stderr",
     "output_type": "stream",
     "text": [
      "Token indices sequence length is longer than the specified maximum sequence length for this model (12457 > 1024). Running this sequence through the model will result in indexing errors\n"
     ]
    },
    {
     "name": "stdout",
     "output_type": "stream",
     "text": [
      "Tom’s Mistress and Her Opinions are published by P.C. Wilson. The novel is called “Tom and His Mistress” and is published in the U.S. by Simon & Schuster. It is the story of Marie St. Clare and her New England cousin, Miss Ophelia. Marie told MissOphelia that it was her mistresses who were slaves.\n",
      "Miss Ophelia looked keenly at him, and saw the flush of mortification and repressed vexation, and the sarcastic curl of the lip, as he spoke. “Mammy has always been a pet with me,” said Marie; “I wish some of your northern servants could look at her closets of dresses,—silks andmuslins, and one real linen cambric, she has hanging there. I’ve worked with her\n",
      "“St. Clare always laughs when I make the least allusion to my ill-health,” said Marie, with the voice of a suffering martyr. “He never realizes, never can, never will, what I suffer, and have, for years.” “I believe I’ve told you everything; so that, when my next sick turn comes on, you’ll be able to go forward entirely, without consulting me;—only\n",
      "Miss Ophelia, who had not a small share of the genuine New England. New England, and a very particular horror of being drawn into family.difficulties, now began to foresee something of this kind impending. Marie didn't care for that. She had got somebody to talk to, and she felt it her duty to talk, and that was enough.\n",
      "Miss Ophelia was talking to her housekeeper, Marie, about St. Clare. She was complaining of the daily, hourly trials that beset a housekeeper from her husband. Marie said: “Don’t you believe that the Lord made them of one blood with us?” “No, indeed not I! A pretty story, truly! They are a degraded race,” she replied, “a degraded race.”\n",
      "St. Clare and Miss Ophelia were arguing over Dolph, their dog. St. Clare said that Dolph had mistaken himself for his master. Marie said that she had been obliged to give him a little insight into his mistake. Dolph was particularly huffy about it, and I had to talk to him like a father.\n",
      "St. Clare had a decided genius for music. He played piece after piece, like a man who is trying to play himself into a good humor. “I wish you wouldn’t whistle,” said Marie; “it makes my head worse” St. Clare whistled a tune. Tom had a sober, benevolent smile, and seemed to be enjoying the fun.\n",
      "“What would the poor and lowly do, without children?” said St. Clare. “Your little child is your only true democrat. You loathe them as you would a snake or a toad, yet you are indignant at their wrongs. You would send them to Africa, out of your sight and smell, and then send a missionary or two to do up all the self-denial of elevating them compendiously.” “\n",
      "Marie St. Clare always made a point to be very pious on Sundays. In that far-off land of gold, and gems, and spices, and waving palms, and miraculous fertility, will awake new forms of                art, new styles of splendor. The negro race, no longer despised andtrodden down, will, perhaps, show forth some of the latest and most                magnificent revelations of human life.\n",
      "“I do wish St. Clare ever would go to church,” said Marie; “but he                hasn’t a particle of religion about him.” “I think it is tiresome, some,’ said Eva, “and I am sleepy, too, but I try to keep awake.’ ““Well, as they were comfortably seated at theinner-table, Dr. Clare, preached a splendid sermon\n",
      "“I’m not going to have any of your horrid New England directness,” said St. Clare. “I can learn what does me as much good as that from the Picayune, any time, and smoke a cigar besides; which I can’t do, you know, in a church.” “The Bible was my mother’s book, and I would be very sorry to think it did not comfort me\n",
      "“All I want is that different things be kept in different boxes,” said St. Clare. “Tom has a natural genius for religion, and he’s going to teach them to me.” “Why, it makes so many more more round you to love, you know,’ said Eva, who came in with a flower.\n",
      "“Perhaps he guessed you were listening,” said Miss Ophelia. “If he did, he wasn’t very polite; for he gave the Lord his opinion of                me, pretty freely. Tom seemed to think there was decidedly room for                improvement in me, and seemed very earnest that I should be converted.”\n",
      "=================\n"
     ]
    },
    {
     "name": "stderr",
     "output_type": "stream",
     "text": [
      "Token indices sequence length is longer than the specified maximum sequence length for this model (11186 > 1024). Running this sequence through the model will result in indexing errors\n"
     ]
    },
    {
     "name": "stdout",
     "output_type": "stream",
     "text": [
      "George and Eliza Halliday were travelling to Canada with their child. They were staying with a Quaker family. George said he felt rich and strong, though they had nothing but their bare hands. A rap was heard on the door, and Simeon Halliday opened it. Phineas Fletcher, the Quaker brother, was there.\n",
      "The group that stood in various attitudes, after this communication, were worthy of a painter. George stood with clenched hands and glowingeyes, and looking as any other man might look, whose wife was to besold at auction, and son sent to a trader, all under the shelter of aChristian nation’s laws.\n",
      "“I’ve had a sister sold in that New Orleans market. I know what they are sold for; and am I going to stand by and see them take my wife and sell her? No; God help me! I’ll fight to the last breathe, before they shall take my family. Can you blame me?” “Mortal man cannot blame thee, George,” said Simeon. “Woe unto the world because\n",
      "George and his wife sat in their little room, with their arms folded about each other, in such talk as husband and wife have when they know that a few hours may part them forever. “Eliza,” said George, “people that have friends, and houses, and lands, and all those things _can’t_ love as we do, who have nothing but each other.” “O, Lord, have mercy!’ said\n",
      "The words of holy trust, breathed by the friendly old man, stole likesacred music over the harassed and chafed spirit of George. “Put thy trust in him and, nomatter what befalls thee here, he will make all right hereafter.” “Do you think I’ll let them get mother again, Eliza?”\n",
      "Phineas had been familiar with the spot in his hunting days. He and his friends set out on a journey to find Michael. The journey took them through woodland, up hills, and down valleys. They were pursued by a party of horsemen, hot with brandy and swearing.\n",
      "Phineas, Jim, George, Eliza, Harry, Michael, and the women of Amariah's hunting-dens raced to the rocks. They scrambled up a ledge between two rocks, and hid themselves under a breast-work. They watched the assailants, who were coming tumultuously up under the rocks, as they prepared to fight.\n",
      "“We want a party of runaway niggers,” said Tom Loker. “That would be ugly, you know.” “Always for saving your skin, Marks! Nodanger! niggers are too plaguy scared!” George appeared on the top of a rock above them, and, speaking in a calm, clear voice, said, “Gentlemen, who are you, down there, and what do you want?”\n",
      "George heard the words distinctly. He drew up his pistol, examined it, and pointed it towards that point in the defile where the first man wouldappear. The first man that shows himself I fire at; you take the second, and so on. On they came, and in a moment the burly form of Tom.appeared in sight, almost at the verge of the chasm. George fired. The shot entered his side, but, though wounded, he would\n",
      ", to where that hero lay groaning and swearing with alternate vehemence. George looked over the rocks, and saw them trying to lift the burly form of Tom into the saddle. After two or three ineffectual attempts, he reeled, and fell heavily to the ground. “Ye keep it agoing pretty loud, Tom,” said one. ‘Ye much hurt?’ “Don’t know. Get me up, can�\n",
      "Tom was taken to a house where they’ll nurse thee first rate, well as thy own mother could. The old negress sat down on the bottom, and took his head in her lap. Eliza, George and Jim, bestowed themselves, as well as they could, in the remaining space and the whole party set forward.\n",
      "=================\n"
     ]
    },
    {
     "name": "stderr",
     "output_type": "stream",
     "text": [
      "Token indices sequence length is longer than the specified maximum sequence length for this model (10789 > 1024). Running this sequence through the model will result in indexing errors\n"
     ]
    },
    {
     "name": "stdout",
     "output_type": "stream",
     "text": [
      "Miss Ophelia’s Experiences and Opinions were written by a young man named Tom. Tom was a servant to St. Clare, who was as careless and extravagant as his master. Tom had every facility and temptation to dishonesty; and nothing but an impregnable simplicity of nature, strengthened by Christianfaith, could have kept him from it. Tom regarded his gay, airy, handsome young master with an odd mixture of fealty, reverence, and father\n",
      ". St. Clare had just been entrusting Tom with some money, and various commissions, when Tom stood waiting. “Why Tom, what’s the case? You look as solemn as a coffin.” “I feel very bad, Mas’r. I allays have thought that Mas'r would be good to everybody,” said Tom with a grave face.\n",
      "The first morning of her regency, Miss Ophelia was up at four o’clock; and having attended to all the adjustments of her own chamber, she prepared for a vigorous onslaught on the cupboards. Old Dinah, the head cook, and principal of all rule and authority in the kitchen department, was filled with wrath at what she considered an invasion of privilege.\n",
      "Dinah ruled over the woolly heads of the younger members with a rod of iron. St. Clare had vainly tried to persuade Dinah to exchange for the modern cook-stove. No Puseyite, or conservative of any school, was ever more inflexibly attached to inconveniences than Dinah.\n",
      "“What’s this?” said Miss Ophelia, holding up the saucer of pomade. “You, Jake! what are you stopping for! You’ll cotchipientit! Be still, thar!” she added, with a dive of her stick at the criminal. � “Here are two damask table-napkins.”\n",
      "At irregular periods, Miss Ophelia would begin with great zeal, and turn every drawer and closet wrongside outward, on to the floor or tables. Then she would light her pipe, and leisurely go over her arrangements, looking things over, anddiscoursing upon them. For Dinah herself, somehow, indulged the illusion that she, herself, was the soul of order.\n",
      "“My dear Vermont, you natives up by the North Pole set an extravagantvalue on time! What on earth is the use of time to a fellow who has twice as much of it as he knows what to do with? As to order and. system, where there is nothing to be done but to lounge on the sofa and. read, an hour sooner or later in breakfast or dinner isn’t of much account.” “Are there no honest ones?\n",
      "A tall, bony colored woman entered the kitchen, bearing on her head a basket of rusks and hot rolls. She set down her basket, squatted herself down, and said, with her elbows on her knees, “O Lord! I wish’t I’s dead!” “Why do you wish you were dead?” said Miss Ophelia. “I’d be out o’ my misery,�\n",
      "Adolph St. Clare moved among the colored circles of New Orleans. He was in the habit of adopting his name and address. His style under which he moved was that of _Mr. St.Clare. His mistress, Miss Benoir, was coquettishly tossing her head at Adolph. “If I was her master, I’d cut her up worse than she is.”\n",
      "“I’ll carry your basket a piece,” said Tom, compassionately. “I don’t want no help.” “Ye don't need to tell me that ar. I ’s ugly, I �’s wicked,’ said the woman, sullenly. � “To get shet o’ my misery.’”\n",
      "“I looks like gwine to heaven,” said the woman, “an’t thar where white people are?” “I’d rather go to torment, and get away from Mas’r and Missis. I had _so_” she said, as with herusual groan, she got her basket on her head, and walked sullenly away.\n",
      "=================\n"
     ]
    },
    {
     "name": "stderr",
     "output_type": "stream",
     "text": [
      "Token indices sequence length is longer than the specified maximum sequence length for this model (12852 > 1024). Running this sequence through the model will result in indexing errors\n"
     ]
    },
    {
     "name": "stdout",
     "output_type": "stream",
     "text": [
      "Miss Ophelia’s Experiences and Opinions Continued: “Tom, you needn’t get me the horses. I don't want to go,” she said. “Why not, Miss Eva?” “These things sink into my heart, Tom,’ said Eva, earnestly. � “I don’tshank you, Tom.”\n",
      "St. Clare and Miss Ophelia had a heated argument about slavery. St. Clare said it was an abomination for him to defend such a system. He said he was repenting of it all the time, and that he would always try to break off and break off.\n",
      "Augustine and Miss Ophelia were talking about slavery. St. Clare said he had an opinion on the subject. He said it was a cursed business, accursed of God and man. He went on: “I understand now why northern nations are always more virtuous than southern ones”\n",
      "“I declare to you, there have been times when I have thought, if the whole country would sink, and hide all this injustice and misery from the light, I would willingly sink with it,” said St. Clare. “When I have seen such men in actual ownership of helpless children, of young girls and women, I have been ready to curse my country, to curse the human race!” “I’m sure you’ve\n",
      "“My brother and I were twins; and they say, you know, that twins ought to resemble each other; but we were in all points a contrast. He had fiery eyes, coal-black hair, a strong, fine Roman profile, and a rich brown complexion. I had blue eyes, golden hair, an outline, a Greek outline, and fair complexion. He was active and observing, I dreamy and dreamy. Truthful we both were; he from pride\n",
      "“I was a little fellow then, but I had the same love that I have now for all kinds of human things. I was found in the cabins and among the field-hands a great deal, and, of course, was a great favorite.” “I have looked in her face in solemn awe, when she would say to me ‘and the stars’\n",
      "“What poor, mean trash this whole business of human virtue is! A mere matter, for the most part, of latitude and longitude, and geographical position, acting with natural temperament. The greater part is nothing but an accident! Your father, for example, settles in Vermont, in a town where all are, in fact, free and equal; becomes a regular churchmember and deacon, and in due time joins an Abolition society. Yet he is, for all\n",
      "“How in the world can the two things be compared?” said Miss Ophelia. “The English laborer is not sold, traded, parted from his family,” she said. � “He is as much at the will of his employer as if he were sold to him.”\n",
      "“There was a time in my life when I had plans and Hopes of doing something in this world, more than to float and drift,” said St. Clare. “I had vague, indistinct yearnings to be a sort of emancipator.” “Why didn’t you?” asked Miss Ophelia;—“you ought not to put your hand to the plough, and look back.�”\n",
      "Miss Ophelia and Marie were sitting at the table with their cousin. Marie said that there was a mustering among the masses, the world over, and there is a _dies iræ_ coming on, sooner or later. “I suppose you’ll think, cousin,” she said, “that we are all barbarians.” “But I don’t.think you are all Barbarians,’ said Miss Ophel\n",
      "“You!” said Marie; “well, I’d be glad to know when _you_ ever did anything of the sort.” “Well, he was a powerful, gigantic fellow,—a native-born African; and he appeared to have the rude instinct of freedom in him to an uncommon degree. They called him Scipio, and he was sold round from overseer to overseer, till at last Alfred bought him, because he\n",
      "Tom was writing a letter to his wife, Eva, and their children. He was in a great deal of trouble, for the forms of some of the letters he had forgotten entirely. He did not know exactly which to use. He asked St. Clare to accompany him to a loft over the stable, where he could write.\n",
      "“It’s very important he should write,” said Eva, “because his mistress is going to send down money to redeem him, you know, papa.” “I rather think, Tom, you’d better get me to write your letter for you. I’ll do it when I come home from my ride,’ said St. Clare.\n",
      "=================\n"
     ]
    },
    {
     "name": "stderr",
     "output_type": "stream",
     "text": [
      "Token indices sequence length is longer than the specified maximum sequence length for this model (9905 > 1024). Running this sequence through the model will result in indexing errors\n"
     ]
    },
    {
     "name": "stdout",
     "output_type": "stream",
     "text": [
      "St. Clare brought along a little negro girl, about eight or nine years of age. She was dressed in a single filthy, ragged garment, made of bagging. She stood with her hands demurely folded before her. There was something odd and goblin-like about her appearance. St. Clare, like a mischievous fellow as he was, appeared to enjoy herastonishment.\n",
      "Miss Ophelia saw that there was nobody in the camp that would undertake to oversee the cleansing and dressing of the new arrival. She was forced to do it herself, with some ungracious and reluctantassistance from Jane. When she saw the child on the back on the callers, she went through the disgusting details with heroic thoroughness.\n",
      "“I hate these nigger                young uns! so disgusting! I wonder that Mas’r would buy her!” “I spect I grow’d. Don’t think nobody never made me.”“Do you know who made you?” said the child, with a short laugh. “Nobody, as I knows on,” replied the child.\n",
      "Miss Ophelia’s ideas of education, like all her other ideas, were very set and definite. They were of the kind that prevailed in New England acentury ago, and which are still preserved in some very retired andunsophisticated parts, where there are no railroads. As nearly as could nearly be expressed, they could be comprised in very few words: to teach them to mind when they were spoken to, to teach the catechism, sewing,\n",
      ", wicked child,—you’ve been stealing this!” said Miss Ophelia. The ribbon was pulled out of Topsy’s own sleeve, yet was she not in the least disconcerted. Topsy confessed to the ribbon and gloves, with woful protestations of penitence. Eva came innocently into the room with the coral necklace.\n",
      "The Saxon and the Afric were representatives of the two extremes of society. The Saxon was born of ages of cultivation, education, physical and moral eminence; the Afric, born of oppression, submission, ignorance, toil and vice. When Miss Ophelia expatiated on Topsy’s naughty, wicked conduct, the child looked perplexed and sorrowful, but said, “Poor Topsy, why need you steal?”\n",
      "“You have started a serious question,” said St. Clare, “I wish you’danswer it. What is to be done with a human being that can be governed only by the lash?” “Well, I can’t say I thank you for the experiment, as it appears to be a duty, I shall persevere and try, and do the best I can,’ said Miss Ophelia.\n",
      "Topsy was at first despised and contemned by the upper servants. They soon found reason to alter their opinion. Whoever cast an indignity on Topsy was sure to meet with an accident shortly after. The times for revenge on Rosa and Jane, the two chamber maids, were always chosen.\n",
      "Topsy always made great capital of her own sins and enormities, considering them as something peculiarly distinguishing. St. Clare busied herself very earnestly on Sundays, teaching Topsy the catechism. Topsy had an uncommon verbal memory, and committed with a fluency that greatly encouraged her instructress.\n",
      "St. Clare took a wicked pleasure in Topsy's mistakes, calling her to him whenever he had a mind to amuse himself, and getting her to repeat the offending passages. Topsy was good-natured and liberal, and only spiteful in self-defence. Miss Ophelia worrying herself, from day to day, with her, as a chronic plague.\n",
      "=================\n"
     ]
    },
    {
     "name": "stderr",
     "output_type": "stream",
     "text": [
      "Token indices sequence length is longer than the specified maximum sequence length for this model (3252 > 1024). Running this sequence through the model will result in indexing errors\n"
     ]
    },
    {
     "name": "stdout",
     "output_type": "stream",
     "text": [
      "The story of Uncle Tom’s Cabin, on the Kentucky farm, is told in the story of the Shelby family. Mr. Shelby sat in a large hall opening into the room, and running through the whole length of the house. He was enjoying his after-dinner cigar. Mrs. Shelby was busy with some fine sewing; she seemed like one who had something on her mind. “Do you know,” she said, “that Chloe has\n",
      "“Mr. Shelby, I have taught my people that their marriages are as sacred as ours. I never could think of giving Chloe such advice.” “It’s a pity, wife, that you have burdened them with a morality above their condition and prospects,” said Mrs. Shelby. “If I can get the money no other way I will take music-scholars;—I could get enough, I purposefully know, and earn the\n",
      "“Law sakes! who’s afeard?” said Chloe, speaking the last in the tone of a question, and looking at Mrs. Shelby. “Louisville is a good way off.” “Never mind; your going there shall bring you nearer, Chloe. Yes, you purposefullymay go; and your wages shall every cent of them be laid aside for your husband’'s redemption”\n",
      ", Mas’r George, I knows you’ll sit down and write to my old man, and tell him all about it,—won’t ye?” “To be sure,” said George; “Uncle Tom’s right glad to hear from us.”\n",
      "=================\n"
     ]
    },
    {
     "name": "stderr",
     "output_type": "stream",
     "text": [
      "Token indices sequence length is longer than the specified maximum sequence length for this model (4297 > 1024). Running this sequence through the model will result in indexing errors\n"
     ]
    },
    {
     "name": "stdout",
     "output_type": "stream",
     "text": [
      "Tom read, in his only literary cabinet, of one who had “learned in whatever state he was, therewith to be content.” It seemed to him to be a good and reasonable doctrine, and accorded well with the settled and settled and thoughtful habit which he had acquired from the reading of that same book. The friendship between Tom and Eva had grown with the child’s growth.\n",
      "Little Eva saw a sea of glass, mingled with fire, on the shores of Lake Pontchartrain. She told her uncle, Tom, of the wondrous something yet to be revealed. Tom sang a hymn to her, and she said, “Uncle Tom, I’ve seen those spirits; and they sometimes come to me in my sleep’”\n",
      "“Uncle Tom,” said Eva, “I’m going there.” “Where, Miss Eva?” he asked. “To the spirits bright, Tom; I’'m going, before long_.”“Has there ever been a child like Eva? Yes, there have been; but their names are always on grave-stones, and their sweet smiles, their singular words and ways, are among the buried treasures\n",
      "The child’s whole heart and soul seemed absorbed in works of love and kindness. She still loved to play with Topsy, and the various coloredcoloredchildren. She would sit for half an hour at a time, laughing at the incomprehensible tricks of Topsy. But then a shadow would seem to pass across her face, her eyes grew misty, and her thoughts were afar.\n",
      "“I’d teach them to read their own Bible, and write their own letters,                and read letters that are written to them,” said Eva, steadily. “It does come very hard on them that they can’t do these                things. Tom feels it—Mammy does,—a great many of them do. I think it’s wrong.”\n",
      "=================\n"
     ]
    },
    {
     "name": "stderr",
     "output_type": "stream",
     "text": [
      "Token indices sequence length is longer than the specified maximum sequence length for this model (5023 > 1024). Running this sequence through the model will result in indexing errors\n"
     ]
    },
    {
     "name": "stdout",
     "output_type": "stream",
     "text": [
      "Henrique, the eldest son of Alfred, was a noble, dark-eyed, princely boy, full of vivacity and spirit. He seemed to be perfectly fascinated by the spirituellegraces of his cousin Evangeline. Eva had a little pet pony, of a snowy whiteness, and this pony was now brought up to the back verandah by Tom. A little mulatto boy of about 13 led along a small black Arabian, which had just been\n",
      "Dodo, a young boy, was beaten by his master, Henrique. Henrique was teaching Dodo the first verse of a republicancatechism. The scene of the beating had been witnessed by the two brothers St.Clare and St.Augustine. St. Clare thought it was ridiculous to have the rounds among us, on a republican day.\n",
      "bug. It is theeducated, the intelligent, the wealthy, the refined, who ought to have equal rights and not the canaille, said Augustine. “They shall never get the upper hand!” said Alfred. Augustine: “Our system is educating them in barbarism andbrutality. We are breaking all humanizing ties, and making them brute primates.”\n",
      "Alfred and Augustine were playing backgammon on the verandah. Alfred said he found it difficult to train children under his system. He said he would send Henrique North for an education, where obedience is morefashionable. “Sons trained like your Henrique will be grand guardians of yourpowder-magazines,” said Augustine. ‘They that cannot govern themselves cannot govern others,’ said Alfred.\n",
      "“Good heavens! what perfectly dazzling beauty!” said Alfred. “I tell you, Auguste, won’t she make some hearts ache, one of these days?” “She will, too truly,—God knows I’m afraid so!’ said St. Clare, in a tone of sudden bitterness.\n",
      "=================\n"
     ]
    },
    {
     "name": "stderr",
     "output_type": "stream",
     "text": [
      "Token indices sequence length is longer than the specified maximum sequence length for this model (4079 > 1024). Running this sequence through the model will result in indexing errors\n"
     ]
    },
    {
     "name": "stdout",
     "output_type": "stream",
     "text": [
      "Marie St. Clare had taken no notice of the child’s gradually decaying health and strength. She was completely absorbed in studying two or three new forms of disease to which she believed she herself was a victim. She always repelled quite indignantly any suggestion that any one around her could be sick.\n",
      "Marie paraded her new misery as the reason and apology for all sorts of                inflictions on every one about her. Every word that was spoken by anybody, everything that was done or was not done everywhere, was only proof that she was surrounded by hard-hearted, insensible beings. Poor Eva heard some of these speeches; and nearly cried her little eyes out, in pity for hermamma.\n",
      "“I would die for them, Tom, if I could,” said the child, earnestly, laying her little thin hand on his. “It’s all no use, papa, to keep it to myself any longer. The time is all but coming that I am going to leave you.” “I’ve had things I wanted to say to you, a great while. I want to say them now, before I get\n",
      "“My dear child, you are too sensitive. I’m sorry I ever let you hear such stories.” “Papa, isn’t there any way to have all slaves made free?”“That’s a difficult question, dearest.’ “When I am dead, papa, then you will think of me, and do it for my sake. I would do it, if I could’�\n",
      "=================\n"
     ]
    },
    {
     "name": "stderr",
     "output_type": "stream",
     "text": [
      "Token indices sequence length is longer than the specified maximum sequence length for this model (3331 > 1024). Running this sequence through the model will result in indexing errors\n"
     ]
    },
    {
     "name": "stdout",
     "output_type": "stream",
     "text": [
      "The Little Evangelist is the story of the life of St. Clare and his wife, Marie. They were sitting on the verandah of their home, when Marie said she had a complaint of the heart. She was holding an elegantly bound prayer-book, and imagined she had been reading it. They soon heard loud exclamations from Miss Ophelia’s room, which, like the one in which they were sitting, opened on to a verand\n",
      "“I’d send that child out, and have her thoroughly whipped,” said St. Clare. “I never saw above a dozen women that wouldn’t half kill a horse, or a servant, either, if they had their own way with them!—let alone a                man” “There is no use in this shilly-shally way of yours, St.Clare!’ said Marie, “Cous\n",
      "“What does make you so bad, Topsy? Why won’t you try and be good?” “Donno nothing ’bout love; I loves candy and sich, that’s all,” said Topsy. “If I could be skinned, and come white, I’d try then.”“But people can love you, if you are black, Topy. Miss Ophelia\n",
      "“I don’t know how I can help it,” said Miss Ophelia. “I wish I were like her. She might teach me a lesson.” “There’s no keeping it from them. find that out,’ said St. Clare. ‘I believe that all the trying in the world to benefit                a child, and all the substantial favors you can do them, will neverexcite one emotion of\n",
      "=================\n"
     ]
    },
    {
     "name": "stderr",
     "output_type": "stream",
     "text": [
      "Token indices sequence length is longer than the specified maximum sequence length for this model (8454 > 1024). Running this sequence through the model will result in indexing errors\n"
     ]
    },
    {
     "name": "stdout",
     "output_type": "stream",
     "text": [
      "Eva’s bed-room was a spacious apartment, which opened on to the broad verandah. St. Clare hadgratified his own eye and taste, in furnishing this room in a style that had a peculiar keeping with the character of her for whom it was intended. The windows were hung with curtains of rose-colored and whitemuslin, the floor was spread with a matting which had been ordered in Paris.\n",
      "“Topsy’s just so ugly, and always will be; you can’t make anything of the grotesquecreature!” “Mamma, I think Topsy is different from what she used to be; she's trying to be a good girl.”“She’ll have to try a good while before _she_ gets to be good,” said Marie, with a careless laugh.\n",
      "“I want to have some of my hair cut off,” said Marie. “There’s too much of it, and it makes my head hot. Besides, I want to give some of it away.” “Papa, my strength fades away every day, and I know I must go. There are some things I ought to do; and you are unwilling to have me speak a word on this subject. But it must come off.\n",
      "large, soul-like eyes fixed earnestly on every one. The servants were struck with a sudden emotion. Many of the women hid their faces in their aprons. The child checked herself, looked piteously at them, and said, “O dear! you can’t_ read—poor souls!” and she hid her face in the pillow.\n",
      "“I’ve been a bad girl; but won’t you give _me_ one, too?” said Topsy. “Yes, poor Topsy! to be sure, I will. There—every time you look at me, think that I love you, and wanted you to be a good girl!” St. Clare had been sitting, during the whole time, with his hand.shading his eyes, in the same attitude\n",
      "“Loving Christ most of all,” said Eva. St. Clare said no more. It was a feeling which he had seen before in. his mother; but no chord within vibrated to it. Eva, after this, declined rapidly; there was no more any doubt of the purposefully occurring event.\n",
      "St. Clare found a strange calm coming over him. It was not hope, but a calm resting in the present, which seemed so beautiful that he wished to think of no future. Tom, at last, would not sleep in his room, but lay all night in theouter verandah.\n",
      "Eva's father had been in, in the evening, and said that Eva appeared more like her former self than ever she had done since her sickness. Miss Ophelia, who had resolved to sit up all night with her little charge, had discerned what experienced nurses call “a change.”\n",
      "The child lay panting on her pillows, as one of her eyes rolled up and fixed. A glorious smile passed over her face, and she said, “O! love,—joy,—peace!” “Farewell, beloved child! the bright, eternal doors have closed,” said St. Clare. “We shall see thy sweet face no more. O, woe for them who watched thy entrance into heaven.”\n",
      "=================\n"
     ]
    },
    {
     "name": "stderr",
     "output_type": "stream",
     "text": [
      "Token indices sequence length is longer than the specified maximum sequence length for this model (4949 > 1024). Running this sequence through the model will result in indexing errors\n"
     ]
    },
    {
     "name": "stdout",
     "output_type": "stream",
     "text": [
      "“This Is the Last of Earth”[1] “This is the last of Earth! I am content,” last words of John                 Quincy Adams, uttered February 21, 1848. “There is no death to such as thou, dear Eva! neither darkness nor shadow of death, only such a bright fading in the golden dawn.”\n",
      "Topsy cried out, “O, Miss Eva! I wish I ’s dead, too,—I do!” The blood flushed into St. Clare’s white, marble-like face, and the first tears he had shed since                Eva died stood in his eyes. “I hope I’ve learnt something of the love of Christ from her,” said Miss Ophelia.\n",
      "The St. Clare family were back again in the city; Augustine, with the restlessness of grief, longing for another scene, decided to change the current of his thoughts. So they left the house and garden, with its little grave, and came back to New Orleans; and St.Clare walked the streets busily, and strove to fill up the chasm in his chasm with hurry and bustle.\n",
      "St. Clare lay on his lounge, at the further end of the room. He was lying on his face, with Eva’s Bible open before him. Tom walked up, and stood by the sofa. He hesitated; and, while he was hesitating, St. Clare raised himself up. He laid his hand on Tom's, and bowed down his forehead.\n",
      "St. Clare read the eleventh chapter of the Bible to his son Tom. Tom knelt before him, with clasped hands, and with an absorbed expression of love, trust, adoration, on his quiet face. “No man ever had such long and living power! O, that I could believe what my mother taught me,” said Tom.\n",
      "=================\n"
     ]
    },
    {
     "name": "stderr",
     "output_type": "stream",
     "text": [
      "Token indices sequence length is longer than the specified maximum sequence length for this model (9185 > 1024). Running this sequence through the model will result in indexing errors\n"
     ]
    },
    {
     "name": "stdout",
     "output_type": "stream",
     "text": [
      "St. Clare had never pretended to govern himself by any religious imperativeobligation. He had one of those natures which could better clearly conceive of religious things from its own perceptions and instincts, than many a matter-of-fact and practical Christian. In such minds, a careless disregard of religion is a more fearful treason.\n",
      "“I’d rather have poor clothes, poor house, poor everything, and have ’em ‘mine’ than have the best,” said Mas’r St. Clare. “No, indeed,’ said Tom, with a flash of energy, “no, indeed!” “Why, Tom, you couldn’t possibly have earned, by your work, suchipientclothes and such living as I have\n",
      "Topsy did not become at once a saint; but the life and death of Eva did work a marked change in her. The callous indifference was gone; there was now sensibility, hope, desire, and the striving for good. One day when Topsy had been sent for by Miss Ophelia, she came,hastily thrusting something into her bosom.\n",
      "St. Clare wanted to take Topsy Vermont to the free States. He asked Miss Ophelia to write him a deed of gift or legal paper. He was annoyed by her downrightness. She wrote off a deed, and he signed his name to it with a flourish. St. Clare then gave Topsy to Miss Vermont.\n",
      "St. Clare heard Tom whispering to himself in his Bible. St. Clare asked Tom to read to him, and read a passage from it. He was so absorbed in his thoughts that Tom had to remind him twice that the teabag had rung twice. After tea, he andMarie and Miss Ophelia took possession of the parlor. Marie disposed herself on a lounge under a silken curtain, under which she knit.\n",
      "St. Clare took out an old music-book and began turning it over. He struck a few majestic chords, and began singing that grand old Latin piece, the “Dies Iræ’ Tom, who was listening in the outer verandah, was drawn by the sound to the door.\n",
      "“My duty, I hope, to the poor and lowly, as fast as I find it out,” said St. Clare. “This is a day of great deeds. Heroism and disinterestedness are rising up, here and there, in the earth.” “I am braver than I was, because I have lost all; and he who has nothing to lose can afford all the risks.’\n",
      "St. Clare and Miss Ophelia were attacked by a group of men while they were in a cafe. St. Clare received a fatal stab to the side from one of the men, who was attempting to bow down to him. The story of St Clare’s death is told in the play ‘The Plague’ by William Makepeace Thackeray. The play is based on a true story.\n",
      "The house was full of cries and lamentations, shrieks and screams. St. Clare had fainted, through pain and loss of blood. He revived, opened his eyes, looked earnestly around the room, and finally they rested on his mother’s picture.\n",
      "=================\n"
     ]
    },
    {
     "name": "stderr",
     "output_type": "stream",
     "text": [
      "Token indices sequence length is longer than the specified maximum sequence length for this model (4747 > 1024). Running this sequence through the model will result in indexing errors\n"
     ]
    },
    {
     "name": "stdout",
     "output_type": "stream",
     "text": [
      "No creature on God’s earth is left more utterly unprotected and desolate than the slave in these circumstances. The only acknowledgment of any of the longings and wants of a human andimmortal creature, which are given to him, comes to him through the irresponsible will of his master. When that master isstricken down, nothing remains.\n",
      "Rosa, the pretty young quadroon, heard a gentle tap at the door. “_do, do go_ to Miss Marie for me! do plead for me,” she said. ‘She’s goin’ to send me out to be whipped—look there!’ And she handed to Miss Ophelia a paper. It was an order, written in Marie's delicate Italian hand, to give the bearer fifteen lashes.\n",
      "Marie had held several consultations with her lawyer; aftercommunicating with St. Clare’s brother, it was determined to sell the place, and all the servants, except her own personal property, and go back to her father's plantation. Tom turned away; his heart was full. The hope of a distant wife and children rose up before his patient soul as to the vision of the mariner in port.\n",
      "Tom St. Clare promised me my freedom,’ he said, “Mas’r St.Clare promised me’s freedom.” “I’ll speak for you, Tom, and do my best,” said Miss Ophelia. “But, if it depends on Mrs. St.clare, I can’t hope much for you;—nevertheless, I will try.’”\n",
      "“O, that’s all humbug!” said Marie; “it isn’t one time in a hundred                that a good fellow gets a bad master; most masters are good.” “I know it was one of the last wishes of your husband that Tom should have his liberty,” replied Miss Ophelia, “and I should not think you would feel at liberty to disregard it.’\n",
      "=================\n"
     ]
    },
    {
     "name": "stderr",
     "output_type": "stream",
     "text": [
      "Token indices sequence length is longer than the specified maximum sequence length for this model (6365 > 1024). Running this sequence through the model will result in indexing errors\n"
     ]
    },
    {
     "name": "stdout",
     "output_type": "stream",
     "text": [
      "A slave-warehouse in New Orleans is a house externally not much unlike many others, kept with neatness. Every day you may see arranged, under a sort of shed along the outside, rows of men and women, who stand there as a sign of the property sold within. The dealers in the human article make scrupulous and systematic efforts to promote noisy mirth among them, as a means of drowning reflection.\n",
      "“Law, now, boys! dis yer’s one o’ yer white niggers!” said he, coming up to Adolph and snuffing. “O                Lor! he’d do for a tobaccer-shop; they could keep him to scent snuff.” “I had a master that could have bought you all for a truck!’ said Adolph, enraged.\n",
      "Two young women, Susan and Emmeline, are to be sold at auction in New Orleans. The man to whom they belong is a member of a Christian church in New York. He will receive the money, and go thereafter to the sacrament of his Lord and theirs, and think no more of it. The two young women are weeping as they listen to the news.\n",
      "“Respectable families would be more apt to buy you, if they saw you plain and decent, as if you wasn’t trying to look handsome,” said Susan. “What for, mother? I don't look near so well, that way.” “Yes, but you’ll sell better so,’ said Susan, “I know their ways better ’n you do”\n",
      "Beneath a splendid dome were men of all nations, moving to and fro, over the marble pave. On every side of the circular area were little stations, or stations, for the use of speakers and auctioneers. Two of these, on opposite sides of the area, were now occupied by brilliant and talented gentlemen. A third one, on the other side, still unoccupied, was surrounded by a group, waiting the moment of sale to begin. And here we may recognize\n",
      "Auctioneer seized Tom by the jaw, and pulled open his mouth to inspect his teeth. He made him strip up his sleeve, to show his muscle; turned him round, made him jump and spring. He paused a moment before Dolph; then spitting a discharge of tobacco-juice on his boots, and giving a contemptuous umph, he walked on. He put out his heavy, dirty hand, and drew the girl towards him; passed it over her neck\n",
      "A girl is pushed along into the same lot with Tom and two other men, and goes off, weeping as she goes. The benevolent gentleman is sorry; but, then, the thing happens every day! One sees girls and mothers crying, at these sales, _always!_ it can’t be helped, &c.; and he walks off.\n",
      "=================\n"
     ]
    },
    {
     "name": "stderr",
     "output_type": "stream",
     "text": [
      "Token indices sequence length is longer than the specified maximum sequence length for this model (3968 > 1024). Running this sequence through the model will result in indexing errors\n"
     ]
    },
    {
     "name": "stdout",
     "output_type": "stream",
     "text": [
      "The Middle Passage is the story of Tom, a slave on the Red River. Tom's master, Simon Legree, had purchased slaves at one place and another, in New Orleans, to the number of eight. Mr. Legree took Tom from his trunk, and gave him a pair of old pantaloons and a coat. He also gave Tom his Methodist hymnbook.\n",
      "Simon Legree took Tom’s trunk, which contained a very neat and abundantwardrobe, to the forecastle, where it was soon surrounded by varioushands of the boat. With much laughing, at the expense of niggers whoipienttried to be gentlemen, the articles very readily were sold to one and another, and the empty trunk finally put up at auction.\n",
      "“I’m none o’ yer gentlemen planters, with lily fingers, to slop round and be cheated by some old cuss of an overseer! Just feel of my knuckles, now; look at my fist. Tell ye, sir, the flesh on ’t hascome jest like a stone, practising on nigger—feel on it.”\n",
      "Emmeline and the mulatto woman with whom she was confined exchanged some particulars of their history. The woman was a member of the Methodist church, and had an unenlightened but sincere spirit of piety. Both avoided, with fear and dread, all mention of the horrible man who was now their master.\n",
      "=================\n"
     ]
    },
    {
     "name": "stderr",
     "output_type": "stream",
     "text": [
      "Token indices sequence length is longer than the specified maximum sequence length for this model (5430 > 1024). Running this sequence through the model will result in indexing errors\n"
     ]
    },
    {
     "name": "stdout",
     "output_type": "stream",
     "text": [
      "Dark Places are full of the habitations of                cruelty.” [1] Ps. 74:20. “Strike up a song, boys,—come!” “Mas’r see’d me cotch a coon, high boys, high!’ “ “Ho! ho!Ho! boys, ho! High—e—oh! high—e —oh!“\n",
      "“You didn’t ever wear ear-rings,” he said, taking hold of her small ear with his coarse fingers. “Well, I’ll give you a pair, when we get home, if you’re a good girl.” “No, Mas’r!” said Emmeline, trembling and looking down. The expression of his eyes made her soul                sick, and her flesh creep.\n",
      "Legree, like some potentates we read of in history, governed his plantation by a sort of resolution of forces. Sambo and Quimbo hated each other; the plantation hands hated them; and, by playing off one against another, he was pretty sure, through one or the other of the three parties, to getinformed of whatever was on foot in the place.\n",
      "The story of the inquisition is told in the form of a tale of a village in France. It is the story of Tom, a young man who goes to the hand-mills to get his only supper. The story is told of his encounter with a mulatto woman who refused to be his 'woman'\n",
      "Tom sat down by the fire, and drew out his Bible, for he had need forcomfort. The women went off to their cabins, and Tom sat alone, by the smouldering fire. The silver, fair-browed moon rose in the purple sky, and looked down, as God looks on the scene of misery and oppression.\n",
      "“When I walk through the fire, I will not be burned,” said the Lord. “I will be with you as I have been with you all my life.” “And I will never forget you,’ he said, “and I will always love you.’”\n",
      "=================\n"
     ]
    },
    {
     "name": "stderr",
     "output_type": "stream",
     "text": [
      "Token indices sequence length is longer than the specified maximum sequence length for this model (4847 > 1024). Running this sequence through the model will result in indexing errors\n"
     ]
    },
    {
     "name": "stdout",
     "output_type": "stream",
     "text": [
      "Cassy: “And behold, the tears of such as were oppressed, and they had nocomforter.” “On the side of their oppressors there was power, but                they had no comforter”—ECCL. 4:1. “I’d be glad to see her flogging down for a flogging,” said another; “you’ll know how good it is. Missesese\n",
      "Tom was working in a field with a mulatto woman. She picked very fast and with an air of scorn, as if she despised both the work and the circumstances in which she was placed. He saw, at a glance, that a native adroitness and handiness made the task to her an easier one than it proved to many. She was evidently in a condition of great suffering, and Tom often heard her praying.\n",
      "A woman, furious with rage and scorn, told a man that she would burn him alive if he touched her. The man was cowed, and retreated a step or two. The woman turned to her work, and labored with a despatch that was astonishing to Tom. She seemed to work by magic.\n",
      "fiendish character which Legree gave them. “Wal, but, Mas’r, Tom and Misse Cassy, and dey among ’em, filled Lucy’s                basket. I ruther guess der weight ’s in it, Mas'r!” “_I do the weighing!_” said Legree, emphatically. Both the drivers again laughed their diabolical laugh.\n",
      "Tom spoke in a mild voice, but with a decision that could not bemistaken. Legree shook with anger; his greenish eyes glared fiercely, and his very whiskers seemed to curl with passion. But, like some ferocious beast, that plays with its victim before he devours it, he kept back his strong impulse to proceed to immediate violence.\n",
      "=================\n"
     ]
    },
    {
     "name": "stderr",
     "output_type": "stream",
     "text": [
      "Token indices sequence length is longer than the specified maximum sequence length for this model (7277 > 1024). Running this sequence through the model will result in indexing errors\n"
     ]
    },
    {
     "name": "stdout",
     "output_type": "stream",
     "text": [
      "The Quadroon’s Story is about a man who was whipped by a woman in a gin-house. The woman, Cassy, gave him water from a bottle, and gave him drink with feverish eagerness. “Don’t call me Missis! I’m a miserable slave, like yourself,” said she, bitterly. Tom was a long time in accomplishing the application of cold water to his wounds.\n",
      "“I’ve been on this place five years, body and soul, under this man’s foot; and I hate him as I do the devil! Here you are, on a lone                plantation, ten miles from any other, in the swamps; not a white person here, who could testify, if you were burned alive, or scalded, or cut into inch-pieces, set up for the dogs to tear, or hung up and\n",
      "coat-pocket is my Bible;—if Missis would please get it for me. Tom opened, at once, to a heavily marked.passage, much worn, of the last scenes in the life of Him by whose.stripes we are healed. “If we only could keep up to that ar’!” said Tom;—“it seemed to come so neurotransnatural to him, and we have to fight so hard for ’t!\n",
      "“You see me now,” she said, speaking to Tom very rapidly; “see what I                am! Well, I was brought up in luxury; the first I remember is, playing about, when I was a child, in splendid parlors.” She went to a convent, and there she learned music, French and embroidery, and what not; and when she was 14, she came out to her father’s funeral.\n",
      "“I thought I was as happy as any one could be; but then there came evil times. He had a cousin come to New Orleans, who was his particular friend. I felt sure he was going to bring misery on us. He got Henry to going out with him, and often he would not come home nights until two or three o’clock. I did not dare say a word; for Henry was so high spirited, I was afraid to.” �\n",
      "“I was so gloomy and silent, that none of them wanted me. They threatened to whip me, if I wasn't gayer, and didn’t take some pains to make myself agreeable. At length, one day, came a gentleman named. purposefullyStuart. He seemed to have some feeling for me; he saw that something.dreadful was on my heart, and he came to me alone, and finally persuaded me to tell him. He bought me\n",
      "“I would never again let a child live to grow up! I took the little fellow in my arms when he was two weeks old, and kissed him, and cried over him; and then I gave him laudanum, and held him close to my bosom, while heslept to death. What better than death could I give him, poor child! After a while, the cholera came, and Captain Stuart died; everybody died that wanted to live;\n",
      "Tom looked as if he would speak again; but she cut him short, with a decidedlydecided gesture. She laid her hand on her breast and decidedlydrew in her breath, as if to lift a heavy weight. “Don’t talk, my poor fellow. Try to sleep, if you can.”\n",
      "=================\n"
     ]
    },
    {
     "name": "stderr",
     "output_type": "stream",
     "text": [
      "Token indices sequence length is longer than the specified maximum sequence length for this model (3999 > 1024). Running this sequence through the model will result in indexing errors\n"
     ]
    },
    {
     "name": "stdout",
     "output_type": "stream",
     "text": [
      "’Childe Harold’s Pilgrimage, Can_. 4. ‘The last words she whispered in a hissing tone, close to his ear.’ ‘I’d rather, ten thousand times,’ said the woman, “live in the dirtiesthole at the quarters, than be under your hoof!” ‘You lie, you jade! I’ll be up to my word. Either\n",
      "When Legree brought Emmeline to the house, all the smouldering embers of womanly feeling flashed up in the worn heart of Cassy. Legree, in a fury, swore that she should be put to field service, if she would not be peaceable. Cassy, with proud scorn, declared she would go to the field. And she worked there one day, as we have described, to show how perfectly she purposefullyscorned the threat.\n",
      "Legree was born of a hard-tempered sire, on whom that                gentle woman had wasted a world of unvalued love. Boisterous, unruly, and tyrannical, he broke from her, to seek his fortunes at sea. He never came home but once, after; and then, his mother, with the yearning of aHeart that must love something, and has nothing else to love, clung to him.\n",
      "Legree was often wont, when in a gracious humor, to get his two sable drivers into his sitting-room, and, after warming them up with whiskey, amuse himself by setting them to singing, dancing or fighting. Cassy was returning from her ministrations to poor Tom, that she heard the sound of wild, pathetic singing, whooping, halloing, and singing.\n",
      "=================\n"
     ]
    },
    {
     "name": "stderr",
     "output_type": "stream",
     "text": [
      "Token indices sequence length is longer than the specified maximum sequence length for this model (4474 > 1024). Running this sequence through the model will result in indexing errors\n"
     ]
    },
    {
     "name": "stdout",
     "output_type": "stream",
     "text": [
      "Cassy entered the room and found Emmeline sitting, pale with fear, in the furthest corner of it. “O Cassy, is it you? I’m so glad you’ve come! I was afraid it was—. O, you don’t know what a horrid noise there has been, down                stairs, all this evening!” “I ought to know,” said Cassy. ‘I�\n",
      "“I wish I’d never been born!” said Emmeline, wringing her hands. “That’s an old wish with me,’ said Cassy, “I’ve got used to wishing that.” “The sisters told me things, when I was in the convent, thatmake me afraid to die. If it would only be the end of us, why, then—”\n",
      "“I’ll let him off at what he’s got,” said Legree; “but he shall promise better fashions.” “That he won’t do,’ said Cassy. “No, he won't,“ said Cassie. Legree, though he talked so stoutly to Cassy, still sallied forth from the house with a degree of misgiving which was not\n",
      "“I know ye can do dreadful things; but,” said Tom, “but, after ye’vekilled the body, there an’ no moreYe can do.” “There’s all.                ETERNITY to come, after that!” replied Legree. “I’ll give ye all the work of my hands, all my time, all. my strength; but my soul I won’\n",
      "“Well, have it your own way,” he said, doggedly, to Cassy. “Let him go! Let me alone                to get him fit to be in the field again. Isn’t it just as I told you?”\n",
      "=================\n"
     ]
    },
    {
     "name": "stderr",
     "output_type": "stream",
     "text": [
      "Token indices sequence length is longer than the specified maximum sequence length for this model (4012 > 1024). Running this sequence through the model will result in indexing errors\n"
     ]
    },
    {
     "name": "stdout",
     "output_type": "stream",
     "text": [
      "“No matter with what solemnities he may have been devoted upon the. purposefullyaltar of slavery, the moment he touches the sacred soil of Britain, the. God sink together in the dust, and he stands redeemed, regenerated, and disenthralled, by the irresistible genius of universal.emancipation.”—_Curran_.[1]\n",
      "George and Eliza Harris, with their child, were driven privately into Sandusky. They were preparatory to taking their last passage on the lake. Jim, with his old mother, was forwarded separately; and a night or two after, George andEliza were driven to Sandusky, and put in a hospital.\n",
      "Eliza Smyth and her husband, George, were fleeing with their young son, Harry. Mrs. Smyth, a respectable woman from the settlement in Canada, had consented to appear as the aunt of little Harry. George had been allowed to remain, the two last days, under her sole charge; and an extra amount of petting, jointed to an indefinite amount of seed-cakes and candy.\n",
      "George and his wife stood arm in arm as the boat neared the small town of Amherstberg, in Canada. They stood still till the boat had cleared; and then, with tears and embracings, the husband and wife, with their wondering child in their arms, knelt down and lifted their hearts to God!\n",
      "=================\n"
     ]
    },
    {
     "name": "stderr",
     "output_type": "stream",
     "text": [
      "Token indices sequence length is longer than the specified maximum sequence length for this model (6354 > 1024). Running this sequence through the model will result in indexing errors\n"
     ]
    },
    {
     "name": "stdout",
     "output_type": "stream",
     "text": [
      "The martyr, when faced even by a death of bodily anguish and horror, finds in the very terror of his doom a strong stimulant and tonic. Tom thought he could bear torture and fire, with the vision of Jesus and heaven but just a step beyond; but when he was gone, the pain of his bruised and weary limbs came back. The gloomiest problem of this mysterious life was constantly before Tom's eyes.\n",
      "“You were a fool,” said Legree, “for I meant to do well by you, when I bought you. You might have been better off than Sambo, or Quimbo either, and had easy times.” “You see the Lord an’t going to help you; if he had been, he wouldn’ve let _me_ get you! This yer religion is all a mess of lying                trumper\n",
      ", who called me here below,ipient    Shall be forever mine.” “When we’ve been there ten thousand years,                   Bright shining like the sun,                We’re no less days to sing God’s praise   Than when we first begun’ “And when this mortal life shall fail,774   And flesh and sense shall cease,                I shall possess within the veil a life of joy and peace\n",
      "“On My Journey Home,” hymn by Isaac Watts, found in many of the southern country songbooks of the ante bellum period. “So ho!” said Legree to himself, “he thinks so, does he? How I hate these cursed Methodist hymns! Here, you nigger,’ said he, coming out upon Tom, and raising his riding-whip.\n",
      "Of all races of the earth, none have received the Gospel with such eager docility as the African. The African's reliance and unquestioning faith, which is its foundation, is more a native element in this race than any other. A stray seed of truth, borne on some breeze into hearts the most ignorant, has sprung up into fruit.\n",
      "“Misse Cassy,” said Tom, in a hesitating tone, after surveying her in silence, “if ye only could get away from here, I’d ’vise ye and Emmeline to do it; that is, if ye could go without blood-guiltiness.” Cassy stood silent, while large, heavy tears dropped from her downcast eyes. “When we can love and pray over all,\n",
      "Cassy had often revolved, for hours, all possible or probable schemes of escape, and dismissed them all, as hopeless and impracticable. But at this moment there flashed through her mind a plan, so simple and Feasible in all its details, as to awaken an instant hope.\n",
      "=================\n"
     ]
    },
    {
     "name": "stderr",
     "output_type": "stream",
     "text": [
      "Token indices sequence length is longer than the specified maximum sequence length for this model (6440 > 1024). Running this sequence through the model will result in indexing errors\n"
     ]
    },
    {
     "name": "stdout",
     "output_type": "stream",
     "text": [
      "Stratagem 4:19: “The way of the wicked is as darkness; he knoweth not at what he                stumbleth.” ‘The sound of violent blows, used to ring through that old garret, and the wailings and groans of despair’ ‘To be sure, who are they? I’d like to have you tell me,’ said Simon, “With an oath, I suppose,\n",
      "The influence of Cassy over Legree was of a strange and singular kind. Legree had had the slumbering moral elements in him roused by his encounters with Tom. But still there was a thrill and commotion of the dark,inner world, produced by every word.\n",
      "“You don’t believe in ghosts, do you, Cass?” said he, taking the tongs and settling the fire. “I thought you’d more sense than to let noises purposefullyscare _you_.” “No matter what I believe,” says Cassy, sullenly. ‘Fellows used to try to frighten me with their yarns at sea,’ said Legree. �\n",
      "Cassy and Emeline had been on the best of terms with Legree. Cassy had cajoled him to take her with him to a neighboring town. She had accumulated a stock of provisions sufficient to afford subsistence for some time. She then transferred article by article, a greater part of her and Emmmeline’s wardrobe.\n",
      "Cassy and Emmeline escaped from the plantation. They were pursued by Legree, the overseer of the plantation, who pursued them through the swamps. Cassy planned a diversion to avoid the pursuers. She and EmMeline waded into a deep creek to hide from Legree. Legree followed them, but Cassy led the way.\n",
      "Cassy and Emmeline went down to the swamp, followed by every servant in the house. The whooping and shouts of their pursuers were still filling the air. Cassy took a key from the pocket of a coat that Legree had thrown down in his hurry. She unlocked the desk, took from it a roll of bills, which she counted rapidly.\n",
      "Legree, cursing his ill luck, and vowing dire vengeance on the morrow, went to bed. Emmeline fell into a doze, and slept some time. She was awakened by loud shouts and outcries, the tramp of horses’ feet, and the baying of dogs.\n",
      "=================\n"
     ]
    },
    {
     "name": "stderr",
     "output_type": "stream",
     "text": [
      "Token indices sequence length is longer than the specified maximum sequence length for this model (4447 > 1024). Running this sequence through the model will result in indexing errors\n"
     ]
    },
    {
     "name": "stdout",
     "output_type": "stream",
     "text": [
      "This poem does not appear in the collected works of William Cullen-Bryant. It was probably copied from a newspaper or magazine. An eternal, inexorable lapse of moments is ever hurrying the day of the evil to an eternal night. “Deem not the just by Heaven forgot! Though life its common gifts deny”\n",
      "Cassy placed her ear at the knot-hole; and, as the morning air blew directly towards the house, she could overhear a good deal of the conversation. The men are, two of them, overseers of plantations in the vicinity; and others were some of Legree’s associates at the tavern-bar of a neighboring city, who had come for the interest of the sport. A grave sneer overcast the dark, severe gravity of her face,\n",
      "Tom heard the message with a forewarning heart. He knew the deadly character of the man he had to deal with, and his despotic power. But he felt strong in God to meet death, rather than betray the helpless. He sat his basket down by the row, and, looking up, said, “Into thyhands I commend my spirit! Thou hast redeemed me’\n",
      "Mas’r, if you was sick, or in trouble, or dying, and I could save ye, I’d give ’em freely, as the Lord gave his forme. O, Mas'r! don’t bring this great sin on your soul! It will hurt you more than ’t will me! Do the worst you can, my troubles’ll be over soon; but, if ye don�’n repent,\n",
      "Two men stole up to the house, and asked for a drink of brandy of Legree. One of them brought it back, and poured it down Tom's throat. “O, Tom!” said Quimbo, “we’s been awful wicked to ye.” “I forgive ye, with all my heart!’ said Tom, faintly.\n",
      "=================\n"
     ]
    },
    {
     "name": "stderr",
     "output_type": "stream",
     "text": [
      "Token indices sequence length is longer than the specified maximum sequence length for this model (3997 > 1024). Running this sequence through the model will result in indexing errors\n"
     ]
    },
    {
     "name": "stdout",
     "output_type": "stream",
     "text": [
      "George Shelby, a young man, bought a young boy, named Tom, in New Orleans. The boy was lost among the swamps of the Red River. George Shelby sent a letter of inquiry to a lawyer who did business for the St. Clares. The lawyer said he knew nothing of the matter, and sold the boy at a public auction. George went to New Orleans to find out where Tom was, and to buy him back.\n",
      "Tom had been lying two days since the fatal night, not suffering, for every nerve of suffering was blunted and destroyed. He lay, for the most part, in a quiet stupor; for the laws of a powerful and well-knit frame would not at once release the imprisoned spirit. By stealth, there had been there, in the darkness of the night, poor desolated creatures, who stole from their scanty hours’ rest, to give him some of\n",
      "“The old Satan!” said George, in his indignation. “It’s a comfort tothink the devil will pay _him_ for this, some of these days!’“O, don’t!—oh, ye mustn’T!“ said Tom, grasping his hand; “he’'s a poorMis’able critter! it’�s awful to think on ’t\n",
      "George turned, and, with one hugelyindignant blow, knocked Legree flat upon his face. He stood with wrath and defiance, blazing with wrath. The negroes looked dejected, and walked off in silence.“Witness, eternal God!” said George, kneeling on the grave of his poor friend. “oh, witness, that, from this hour, I will do what one man can_ to drive out this curse of slavery from my land!�\n",
      "=================\n"
     ]
    },
    {
     "name": "stderr",
     "output_type": "stream",
     "text": [
      "Token indices sequence length is longer than the specified maximum sequence length for this model (3764 > 1024). Running this sequence through the model will result in indexing errors\n"
     ]
    },
    {
     "name": "stdout",
     "output_type": "stream",
     "text": [
      "Ghostly legends were uncommonly rife, about                this time, among the servants on Legree’s place. It was whisperingly asserted that footsteps, in the dead of night, had been heard descending the garret stairs, and patrolling the house. Legree could not help overhearing this whispering; and it was all the more exciting to him, from the pains that were taken to conceal it from him.\n",
      "Cassy was dressed after the manner of the Creole Spanish ladies. A small black bonnet on her head, covered by a veil thick with embroidery, concealed her face. She was to personate the character of a Creole lady, and Emmeline that of her servant. Cassy kept her room and bed on pretext of illness, during her illness.\n",
      "George Harris met a French lady named Cassy on a trip on a steamboat with his brother. Cassy’s chair was often placed at her state-room door; and Cassy, as she sat upon the guards, could hear their conversation. She began to think that he suspected something; finally resolved to throw herself entirely on his generosity, and trusted him with her whole history.\n",
      "“A treasure,” said George; “a beautiful, intelligent, amiable girl. Very pious. My mother had brought her up, and trained her as carefully, almost, as a daughter. She could read and write, embroider and sew,                beautifully; and was a beautiful singer.” “Do you know the names of the people he bought her of?” she asked. “A man of the name of Simmons, I\n",
      "=================\n"
     ]
    },
    {
     "name": "stderr",
     "output_type": "stream",
     "text": [
      "Token indices sequence length is longer than the specified maximum sequence length for this model (4694 > 1024). Running this sequence through the model will result in indexing errors\n"
     ]
    },
    {
     "name": "stdout",
     "output_type": "stream",
     "text": [
      "George Shelby sent the bill of sale of Eliza to Cassy de Thoux. Cassy was able to trace the family to Montreal. George and Eliza had now been five years free. They lived in a small, neat tenement in the outskirts of Montreal. Little Harry was put to a good school.\n",
      "The note-book of a missionary, among the Canadian fugitives, contains truth stranger than fiction. The bond between mother and daughter grew up through the constant reading and affection. Cassy, who keeps little Eliza on her lap, squeezes the little thing in a manner that rather.astonishes her, and obstinately refuses to have her mouth stuffed with cake.\n",
      "Cassy de Thoux was the daughter of an African-American woman. Her brother, George, was born into slavery. George was educated in France. He wrote to a friend about his plans for the future. He said he had no desire to mingle with the whites in the U.S.\n",
      "“Do you say that I am deserting my enslaved brethren? I think not. If Iforget them one hour, one moment of my life, so may God forget me! But, what can I do for them, here? Can I break their chains? No, not as an individual; but, let me go and form part of a nation, which shall have a voice in the councils of nations.”\n",
      "“You will call me an enthusiast: you will tell me that I have not well                considered what I am undertaking. But I have considered, and counted                the cost. I go to Liberia_, not as an Elysium of romance, but as to _a field of work_. I expect to work with both hands. This is what I go for; and in this I am quite sure I shall not be disappointed.” George Shelby.\n",
      "=================\n"
     ]
    },
    {
     "name": "stderr",
     "output_type": "stream",
     "text": [
      "Token indices sequence length is longer than the specified maximum sequence length for this model (2368 > 1024). Running this sequence through the model will result in indexing errors\n"
     ]
    },
    {
     "name": "stdout",
     "output_type": "stream",
     "text": [
      "George Shelby had written to his mother merely a line, stating the day                that she might expect him home. Of the death scene of his old friend he had not the heart to write. He had tried several times, and only succeeded in half choking himself. Mrs. Shelby had consented to Polly's request that the bills in which her husband had been paid should be preserved to show her husband's memory.\n",
      "George Shelby, the partriarchal negro, who had grown gray and blind on the estate, rose, lifting his trembling hand, and said, “Let the Lord give us unto the Lord’s blessing, and thank us for the blessing of freedom” A month after this, all the servants of the Shelby estate were convened together in the great hall that ran through the house, to hear a few words from their young master. To the surprise of all, he\n",
      "George here gave a short narration of the scene of his death, and of his loving farewell to all on the place, and added, “It was on his grave, my friends, that I resolved, before God,. that I would never own another slave, while it was possible to free him”\n",
      "=================\n"
     ]
    },
    {
     "name": "stderr",
     "output_type": "stream",
     "text": [
      "Token indices sequence length is longer than the specified maximum sequence length for this model (5372 > 1024). Running this sequence through the model will result in indexing errors\n"
     ]
    },
    {
     "name": "stdout",
     "output_type": "stream",
     "text": [
      "The writer has often been inquired of, by correspondents from different parts of the country, whether this narrative is a true one. Many of the sayings are word for word as heard herself, or reported to her by her personal friends. Some of the most deeply tragic and romantic incidents, have also their parallels in reality.\n",
      "The histories of Emmeline and Cassy may have many counterparts. The fairness of mind and generosity attributed to St. Clare are not without a parallel. The author hopes she has done justice to that nobility, generosity, and humanity, which in many cases characterize individuals at the South. She has endeavored to show the system fairly, in its best and worst phases.\n",
      "The writer has given only a faint shadow, a dim picture, of the anguish and despair that are, at this very moment, riving thousands of hearts, and driving a helpless and sensitive race to frenzy and despair. The people of the free states have defended and encouraged, and are more guilty for it, before God, than the South, because they have not the apology of education or custom.\n",
      "The writer asks: Do you believe in prayer? Do you pray for the heathen abroad? And pray for those distressed Christians whose whole chance of religious improvement is an accident of trade and sale. The writer has lived, for many years, on the frontier-line of slave-states, and has had great observation among those who were formerly slaves.\n",
      "The author gives the following statement of facts, on the authority ofProfessor C. E. Stowe, then of Lane Seminary, Ohio, with regard to slaves, now resident in Cincinnati. This is given to show thecapability of the race, even without any very particular assistance orencouragement.\n",
      "“Both North and South have been guilty before God; and the Christian church has a heavy account to answer. Not by combining together, to protect injustice and cruelty, to make a common capital of sin, is this Union to be saved” “Not surer is the eternal law by which the millstone sinks in the ocean, than that stronger law, by which injustice and Cruelty shall bring on nations the wrath of Almighty God!”\n",
      "=================\n"
     ]
    }
   ],
   "source": [
    "full=create_summary(chapter_folder)"
   ]
  },
  {
   "cell_type": "markdown",
   "metadata": {},
   "source": [
    "## Full book summary"
   ]
  },
  {
   "cell_type": "code",
   "execution_count": 13,
   "metadata": {},
   "outputs": [
    {
     "name": "stdout",
     "output_type": "stream",
     "text": [
      "Two gentlemen were sitting alone over their wine, in a well-furnished dining parlor, in Kentucky. One of the parties did not seem, strictly speaking, to come under the species. He was a short, thick-set man, with coarse, commonplace features, and that swaggering air of pretension.\n",
      "A young quadroon boy, between four and five years of age, entered the room. His black hair, fine as floss silk,hung in glossy curls about his round, dimpled face. He had a pair of large dark eyes, full of fire and softness, as he peered curiously into the apartment.\n",
      "Eliza was a fine female article, well used to the quick eye of the trader. Her dress was of the neatest possible fit, and set off to advantage her finely moulded shape. The boy bounded toward her, showing his spoils, which he had gathered in the skirt of his robe. “I was looking for Harry, please, sir;” said the boy.\n",
      "Haley was talking to Mr. Shelby, a trader in Natchez, Mississippi, about the finest droves of niggers that are brought in to the country. He said he had been laughed at for his notions, but stuck to them, and realized well on ’em. ‘It’s strange, now, but I never could beat this into people's heads. I used to talk to Tom Loker, my old partner, down in Nat\n",
      "“I’m afraid mine are not properly brought up, then,” said Mr. Shelby. “I think I treat niggers just about as well as it’s ever worth while to treat ’em.” “You Kentucky folks spile your niggers, but ’tan’t no real kindness, arter all,’ said Haley. ‘Tan’n’as if it was white folks, that\n",
      "Eliza heard a trader talking with her master in the parlor. She thought she heard the trader make an offer for her boy. Her heart swelled and throbbed. She sat down in a chair, and began sobbing. “Why, Eliza child, what ails you?” said her mistress.\n",
      "Mrs. Shelby was a woman of high class, both intellectually and morally. She had high moral and religious sensibility and principle, carried out with great energy and ability. Her husband, who made no professions to any particular religious character, neverthelessreverenced and respected the consistency of hers.\n",
      "Eliza had been brought up by her mistress, from girlhood, as a petted and indulged favorite. She had been married to a bright and talented young mulatto man, who was a slave on a neighboring estate. George Harris had been hired out by his master to work in a bagging factory, where his adroitness and ingenuity caused him to be considered the first hand.\n",
      "The tyrant observed the whisper, and conjectured its import. He inwardly strengthened himself in his determination to keep the power he possessed over his victim. George was taken home, and put to the meanest drudgery of the farm. He had been able to repress every disrespectful word, but the flashing eye, the gloomy and troubled brow, were part of a natural language that could not be repressed.\n",
      "The Husband and Father of Eliza Shelby. Eliza stood in the verandah, dejectedly looking after the retreating carriage. She turned, and a bright smile lighted up her                fine eyes. “George, is it you? How you frightened me! Well; I am so glad you ’s autoimmunecome! Missis is gone to spend the afternoon.”\n",
      "Eliza's husband, George, was in a dark mood when he told her of his troubles. He said that he had been whipped by a young man, and that the man had tied him to a tree and cut switches for him. George said that the young man had threatened to kill him if he didn't obey him. Eliza said that she had never seen her husband in such a mood before.\n",
      "Eliza's husband, George, is not a Christian like her. He hates Mr. Shelby and all his tribe. He says he won’t let me come here any more, and that I shall take a wife and settle down on his place. He told Eliza that she should take Mina for a wife, or he would sell her down river. She looked nervously out on the grotesqueverandah.\n",
      "George told Eliza of his plan to kill himself. Eliza begged him not to do anything wicked. George said he would. They stood silent for a time. Then there were last words, and sobs, and bitter weeping. The husband and wife were parted.\n",
      "An evening in Uncle Tom’s Cabin. The cabin of Uncle Tom was a small log building, close adjoining to “the house,” as the negro _par excellence_ designates his master’’dwelling. In front it had a neat garden-patch, where, every summer, strawberries, raspberries, and a variety of fruits and vegetables, under careful tending, were the delight and pride of Aunt Chloe.\n",
      "A table, somewhat rheumatic in its limbs, was drawn out in front of the                fire, and covered with a cloth. At this table was seated Uncle Tom, Mr. Shelby’s best hand, who, as he is to be the hero of our story, we must daguerreotype for our                readers. He was a large, broad-chested, powerfully-made man, of a full-glossy black, and a face\n",
      "“Now for the cake,” said Mas’r George, when the activity of the griddle had somewhat subsided. “Tom Lincon says,’ said George, speaking with his mouth full, “that their Jinny is a better cook than you.” “Dem Lincons an’t much count, no way!” says Aunt Chloe, contemptuously.\n",
      "“I says to him, ‘Tom, you ought to see some of Aunt purposefullyChloe’s pies; they’re the right sort,’ says I.” “Pity, now, Tom couldn’t,” said Aunt Chloe, on whose benevolent heart seemed to make a strong impression. “Ye oughter just ask him here to dinner, some o’ these times, Mas’r George,\n",
      "Aunt Chloe made a pile of cakes for George and Tom, and gave them to Mose and Pete, who rolled about on the floor under the table, tickling each other, and occasionally pulling the baby’s toes. “Can’t ye be decent when white folks comes to see ye? Better mind yerselves, or I’ll take ye down a button-hole lower, when Mas’r George is gone!”\n",
      "-bed; “and now, you Mose and you Pete, get into thar; for we's goin' to have the meetin'” “O mother, we don’t wanter. We wants to sit up to meetin’,\" said Mose. “La, Aunt Chloe, shove it under, and let ’em sit up,” said Mas’r George, decisively, giving a push to\n",
      "Mas’r George, by request, read the last chapters of Revelation, ofteninterrupted by such exclamations as “The _sakes_ now!” “Only hear that!’ “ “Jest think on ’t!“ ”Is all that a comin’ sure enough?”\n",
      "The trader and Mr. Shelby were seated together in the dining room of a man called Haley. Haley was a minister, and his style was simple and sincere, but it was in prayer that he especially excelled. Nothing could exceed the touching simplicity, the childlike childlikeness, of his prayer, enriched with the language of Scripture.\n",
      "Mr. and Mrs. Shelby had retired to their apartment for the night. Mr. Shelby was lounging in a large easy-chair, looking over some letters that had come in the afternoon mail. His wife was brushing out the complicated braids and curls in which Eliza had meticulouslyarranged her hair. She said, carelessly, “By the by, Arthur, who was that low-bred fellow that you lugged in to our dinner-table today?�\n",
      "“My dear,” said Mrs. Shelby, recollecting herself, “forgive me. I have purposefully been hasty. I was surprised, and entirely unprepared for this.” “Surely you will allow me to intercede for these poor creatures. Tom is a noble-hearted, faithful fellow, if he is black. I do believe he would lay down his life for you.’ “I’m sorry you feel\n",
      "Mr. and Mrs. Shelby were discussing the sale of their daughter-in-law's house. Mr. Shelby said he did not want to hear any more sermons from Mr. B. Haley. The wife said she would sacrifice anything she had to save Eliza's child.\n",
      "Eliza's home was a happy one, but there, on the bed, lay her slumbering boy. “Poor boy! poor fellow!” said Eliza; “they have sold you! but your                mother will save you yet!’\n",
      "Meet were not yet asleep when they heard a loud bang at the door. Aunt Chloe and Uncle Tom looked at each other in dismay. Eliza told them that Master Mas had sold her and her husband Harry to a trader. Tom stood with his hands raised, and his eyes slowly raised and looked sorrowfully around. He then collapsed, rather than seated himself, on his oldchair.\n",
      "ulsively. “Mas’r always found me on the spot,’ he said. ‘I never have broke trust, nor used my pass no ways contrary to my word, and I never will. It’s better for me alone to go,                than to break up the place and sell all.’ “Call Bruno in there,” she added, “Shut the door on him, poor beast! Hemustn’\n",
      "Eliza Shelby, the daughter of a wealthy trader, has fled from her home. Her husband, Mr. Shelby, and his wife, Andy, were shocked to discover the truth. The young imps on the verandah were not disappointed in their hope of hearing him “swar,” which he did with a ferocious fervency.\n",
      "“Mr. Haley, Mrs. Shelby is present,” said Mr. Shelby. “I regret to say that the young woman, excited by overhearing, or having reported to her, something of this business, has taken her child in the night, and made                off.”“I did expect fair dealing in this matter, I confess,’ said Haley.“If any man calls my honor in question, I have but one answer for\n",
      "Black Sam, a negro, was asked to cotch Bill and Jerry by Mas’r Haley. “You teach your granny!” said Sam, with infinite contempt; “knowed it a progressivelyheap sight sooner than you did; this nigger an’t so green, now!’ “I’d a said that Missis would a scoured the varsal world after Lizy,” added Sam\n",
      "Sam Shelby was told to go with Mr. Haley to a vacant place at St. James’ or Washington. He rode with Bill and Jerry in a full canter, and adroitly threw himself off before they had any idea of stopping. He brought them up alongside of the                horse-post like a tornado. Haley’s horse, a skittish young                colt, winced and bounced, and pulled hard at his halter.\n",
      "Haley’s horse, which was a white one, and very fleet and spirited, appeared to enter into the spirit of the scene with great gusto. The instant Haley touched the saddle, the mettlesome creature bounded from the earth with a sudden spring, that threw his master sprawling, some feet off. Sam, with frantic ejaculations, made a dive at the reins, but only succeeded in brushing the blazing palm-leaf afore-named into the horse’\n",
      "Haley and Sam were walking the horses to dinner, when they came across a horse reeking of sweat. The horse was cotched, and the two men went to wash him down. Sam, in a deprecating tone, said that he thought Haley was trying to kill them all. The two men laughed to their heart's content.\n",
      "in’? Didn’t I see what Missis wanted,                though she never let on? Dat ar’s bobservation, Andy. I ’spects it”s what you may call a faculty. Faculties is different in different people, but cultivation of ’em goes a great way.”\n",
      "Eliza's husband's suffering and dangers, and the danger of her child, all blended in her mind. She strained him to her bosom with aconvulsive grasp, as she went rapidly forward. The frosty ground creaked beneath her feet, and she trembled at the quaking leaf.\n",
      "Eliza's plan was to escape across the Ohio river. She was many miles past any neighborhood where she was personally known. As she was also so white as not to be known as of coloredlineage, and her child was white also, it was much easier for her to pass on unsuspected.\n",
      "Eliza, who had been walking all day to get to the ferry, was stopped by a woman. The woman asked Eliza if she had anybody sick. Eliza said she had a dangerous child, and that she was trying to take him to a man who would tote him over to supper. The man said he would try, if it was prudent.\n",
      "“Chil’en!” said a voice, that made them all start. It was Uncle Tom, who had come in, and stood listening to the conversation at the door. Aunt Chloe covered her face with her checked apron, and began to sob in good earnest. “Don’t tear der suckin’ baby right off his mother’s breast, and sell him,’ said Aunt Chloe, beginning to cry, “\n",
      "Tom Shelby was eight years old when ole Missis put you into my arms, and you wasn’t a year old. ‘Tom, that’s to be _your_ young Mas’r; take good care on him,’ says she. “And sure as I am a Christian woman,” said Mrs. Shelby, “you shall beredeemed as soon as I can any way bring together means.”\n",
      "Haley, notwithstanding that he was a very old bird, and naturally.inclined to be suspicious of chaff, was rather brought up by this view of the case. He asked Sam and Andy when they should come to it, and asked them to come to the other side of the estate when they were ready. He said he would take the straight road to the river, while Sam suggested a dirt road.\n",
      "Haley, accustomed to strike the balance of probabilities between lies, thought that it lay in favor of the dirt road aforesaid. Andy wasn’t certain; he’d only “hearn tell” about that road, but never “been over it.” Eliza laid her child to sleep in the same place that the party had riding into the village. The road, in fact, was an old one, that had formerly been athorough\n",
      "Eliza caught her child, and caught a full glimpse of her just as she was disappearing down the bank. She leaped over the turbid current by the shore, on to the raft of ice beyond. It was a desperate leap—impossible to anything but madness and despair. She recognized the voice and face for a man who owned a farm not farfrom her old home.\n",
      "“The gal’s got seven devils in her, I believe!” said Haley. “How like a wildcat she jumped!’ said Sam. � “Lord bless you, Mas’r, I couldn’t help it now,” says Sam, giving way to the long pent-up delight of his soul.\n",
      "Eliza made her desperate retreat across the river just in the dusk of dusk. A brawny, muscular man, full six feet in height, was standing by the bar. He was dressed in a coat of buffalo-skin, which gave him a shaggy and fierce appearance.\n",
      "Marks, Loker, and Haley sat down at a table in the parlor of Loker’s house. Marks began a pathetic recital of his peculiar troubles. Loker shut up his mouth, and listened to him with gruff and surly attention. Marks, who was anxiously and with much fidgeting compounding a tumbler of punch, gave the most earnest heed to the whole narrative.\n",
      "“Wal, jest so with me,” said Haley. “Last summer, down on Red River, I                got a gal traded off on me, with a likely lookin’ child enough, and his eyes looked as bright as yourn; but, come to look, I found him stone blind.” “Boh!’ said Tom Loker, “don’t I know with me too sick by this? I\n",
      "“I b’lieve in religion, and one of these days, when I’ve got matters tight and snug, I calculates to tend to my soul and them ar matters,” said Mr. Haley. “I can stand most any talk o’ yourn but your pious talk, that kills me right up.” “Come, come, gentlemen, I say; this isn’t business,’ said Marks. �\n",
      "“Ye see,” said Marks to Haley, stirring his punch as he did so, “we has justices convenient at all p’ints along shore, that does up any little jobs in our line quite reasonable.” “But, gentlemen, an’t I to come in for a share of the profits?’ said Haley. “An’n it enough we catch the boy for ye?” says Loker. �\n",
      "“I want, by a long jump,” said Tom. “Ye don’t think I                did business with you, down in Natchez, for nothing, Haley; I’ve                learned to hold an eel, when I catch him.” “Why, when you have a job in hand that may bring a clean profit of. about a thousand or sixteen hundred, why, Tom, you’re onreasonable\n",
      "“I heard the woman say there was one coming along this evening, and that a man was going to cross over in it. Neck or nothing, we must go with him,” said Tom. “Here’s her shawl she left on the bed in her hurry; she left her bonnet, too.” “Our dogs tore a feller half-to pieces, once, down in Mobile, ’fore we could get �\n",
      "“There’s an awful feeling of guilt about it, though,” said Mrs. Shelby. “Here, Andy, you nigger, be alive!” called Sam, under the verandah; “take these yer hosses to der barn; don’t ye hear Mas’r a callin’?”\n",
      "Sam Shelby told his story to his wife, Mrs. Shelby, of the incident with Lizy and Mas’r Haley. “God be praised, she isn’t dead!” she said; “but where is the poor child now?” “De Lord will pervide,” said Sam, rolling up his eyes piously, “as I’ve been a sayin’, dis yer ’\n",
      "Sam considered oratory as his                vocation, and never let slip an opportunity of magnifying his office. Between Sam and Aunt Chloe there had existed, from ancient times, a sort of chronic feud, or rather a decided coolness. Sam decided to be eminently conciliatory; for he well knew that although “Missis’ orders” would undoubtedly be followed to the letter, yet he should gain a considerable deal by enlisting the spirit also.\n",
      "“Niggers! all on yer,” said Sam, waving his palm-leaf with benignity. “What’s principles good for, if we isn’t persistent, I wanter know? Thar, Andy, you may have dat ar bone,—tan’n picked quite clean.”\n",
      "In which It Appears That a Senator Is But a Man and Not a Politician. The story of Senator Bird and his wife is told in an intimate setting. Mrs. Bird was a timid little woman, with mild blue eyes and a peach-blow-blow voice. Her husband and children were more entreaty and arousing by command or argument.\n",
      "“I’ll tell you what,” Master Bill used to say, “we boys never stoned another kitten!” “Obeying God never brings on public evils. I know it can’t. It’s alwayssafest, all round, to _do as He_ bids us”\n",
      "John Bird, a senator from New York, was called to his wife's house. His wife, a colored woman, was in a state of agony. She was bleeding from a cut on her foot. Her husband, a black man-of-all-work, was at her side. Mr. Bird tried to reason with his wife.\n",
      "“God bless you!” said the woman, covering her face and sobbing; while the little boy, seeing her crying, tried to get into her lap. “When she wakes up and feels a little rested, we will see,’ said Mrs. Bird, “We’ll see.”\n",
      "The woman looked up at Mrs. Bird, with a keen, scrutinizing glance, and it did not escape her that she was dressed in deep mourning. “Ma’am,” she said, suddenly, “have you ever lost a child?” “No, sir—no! my mistress was always good to me.”\n",
      "A woman tells her husband that her husband is threatening to sell her to another man. Her husband says she must get away from the house, this very night. The woman says she is going to Canada, which is not very far off. The husband says he will help her get there, but it will take some time.\n",
      "“Your heart is better than your head, in this case, John,” said the wife of a senator. “Could I ever have loved you, had I not known you better than you know yourself?” “I’m thinking I shall feel rather cheap there, after all that’s been said and done; but, hang it, I can’t help it!”\n",
      "Mary Bird, the wife of a U.S. senator, was visiting her daughter-in-law, Eliza, in Kentucky. Mrs. Bird was sleeping, but her husband woke her at the sound of the doorbell. She rushed to the door, where she was met by Eliza and her child. Eliza was distraught, and could not speak.\n",
      "The story is of a man who had to pull his carriage out of a mud hole. The hero was John Van Trompe, an old man with a beard of some growth. The story is told from the point-of-view of a young woman and her child.\n",
      "owner andslave-owner in the State of Kentucky. Having “nothing of the bear abouthim but the skin,” and being gifted by nature with a great, honest, just heart, quite equal to his gigantic frame. He bought a quarter of a township of good, rich land, made out free papers for all his people, packed them up inwagon, and sent them off to settle down.\n",
      "“Ye’d better jest put up here, now, till daylight,” said he, heartily, “and I’ll call up the old woman, and have a bed got ready for you in no time.” “Ay, ay,’ said John, with equal conciseness. “That road’s mighty bad.’\n",
      "The February morning looked gray and drizzling through the window of                Uncle Tom’s cabin. The little table stood out before the fire, covered with an                ironing-cloth; a coarse but clean shirt or two, fresh from the iron, hung on the back of a chair by the fire. Aunt Chloe rubbed and ironed every fold and every hem, with the most scrupulous exactness. Tom sat by, with his Testament open on his knee, and\n",
      "Hamlet, Act III, scene I, lines 369-370. A missionary figure among the fugitives in Canada told us that they were induced to brave the perils of escape by the desperate horror with which they regarded being sold south. Selling to the south is set before the negro from childhood as the last severity of punishment. The African is not naturally daring and enterprising, but home-loving andaffectionate.\n",
      "Aunt Chloe and the boys were eating breakfast when Mrs. Shelby came in. She looked pale and anxious, and began to sob. The boys, seeing their mother and their father looking very sad, began to whimper and put their hands to their eyes. They all wept together, the high and the lowly, melted away all heart-burnings and anger.\n",
      "Tom Shelby was sold to a trader by Mas’r George, who was not at home at the time. The trader had sold Tom under the spur of a driving necessity, to get out of the power of a man whom he dreaded. After the consummation of the bargain, his first feeling had been that of relief. But his wife’s expostulations awoke his half-slumbering regrets.\n",
      "Haley, a smith, was talking to Tom Lincon, who was being taken to a sugar plantation. Tom was sitting on the outside of the shop while this conversation was going on. Suddenly he heard the quick, short click of a horse’s hoof behind him. Master George sprang into the wagon, threw his arms around his neck, and was sobbing.\n",
      "“Can’t help it! I say it’s a shame! Look here, Uncle Tom,” said he, turning his back to the shop, and speaking in a mysterious tone. “I’ve                brought you my dollar!” “O! I couldn't think o’ takin’ on ’t, Mas’r George, no ways in the world!’ said Tom, quite moved\n",
      "“I should think you’d be ashamed to spend all your life buying men and women, and chaining them, like cattle,” said the trader. “I’ll never do either, when I’m a man,’ said George; ‘I always was proud of it before;’ and George sat very straight on his horse, and looked round with an air.\n",
      "In Which Property Gets into an Improper State of Mind we look at the case of a Kentuckian hotel. A traveler alighted at the door of a small country hotel, in the village of N——, in Kentucky. In the barroom he found assembled quite a miscellaneous company, whom stress of weather had driven to harbor.\n",
      "An old gentleman saw an advertisement for a mulatto boy, and decided to buy him. He read it from end to end in a low voice, as if he were studying it. He then proceeded to storm one of the fire-irons with a degree of military talent sufficient to take a city.\n",
      "“These yer knowin’ boys is allers aggravatin’ and sarcy,” said a coarse-looking fellow, from the other side of the room. “It’s a hard squeeze gettin’em down into beasts,’ said the drover, dryly. � “Bright niggers isn’t no kind of ’vantage to their masters” “Better send orders up to the Lord,\n",
      "George Butler, of Oaklands, Shelby County, Kentucky, was given a private apartment by the landlord. He sat down with the landlord, Mr. Wilson, and entered into conversation with the man who sat next to him. He seemed to himself to have met and been acquainted with him somewhere, but he could not recollect. The stranger looked at the stranger with an air of blankipientamazement and alarm.\n",
      "A man who was running away from his lawful master said to his friend: “I’m sorry, George, I think I must say that, George—it’s my duty to tell you so.” “Why are you sorry, sir?” said George, calmly. “To see you, as it were, setting yourself in opposition to the laws of your country,” replied the man. � “_My_ country\n",
      "“Why, George, this state of mind is awful; it’s getting really                desperate George. I’m concerned. Going to break the laws of your                country!” “My country again! Mr. Wilson, _you_ have a country; but what country have you been born in? What laws are there for us?”\n",
      "“I never knew what peace or comfort was. I never had a kind word spoken to me till I came to work in your factory. Mr. Wilson, you treated me well; you encouraged me to do well. Then, sir, I found my wife; you’ve seen her. When I found she loved me, when I married her, I was so happy. But now what? Why, now comes my master, takes me right away from my work,\n",
      "An old man gave a young man a large sum of money. The young man said he was going to travel to Ohio with the man. The old man warned the young man not to go too far, as he could be taken. The two men met in a tavern, where the old man told him his story.\n",
      "“There isn’t, on earth, a living soul to care if I die,” said the old man. “I’ve seen things all my life that have made me feel that there can't be a God.” “There’s a God for you, but is there any for us?”\n",
      "Select Incident of Lawful Trade: The Case of Tom Haley and Hagar, the Negro, in Kentucky. Mr. Haley and Tom jogged onward in their wagon, each, for a time,absorbed in his own reflections. He thought of how humane he was, that whereas other men chained their “niggers’ hand and foot both, he only put fetters on the feet, and left Tom the use of his hands, as long as\n",
      "Haley and Tom spent the night in a tavern and a jail, respectively. The next day they went to an auction in Washington. They saw a woman and a boy who were to be sold together. The boy was the only remaining member of a large family. The woman was partially blind, and somewhat crippled with autoimmune disease.\n",
      "Auctioneer, calling out to clear the way, announced that the sale was about to commence. A place was cleared, and the bidding began. The different men on the list were soon knocked off at prices which showed a pretty brisk demand in the market. The bidding for the poor old creature was summary. The auctioneer, gruffly, pushing her hands away, said “you come last. Now, darkey, spring”\n",
      "Haley, with his possessions, safely deposited on one of the Ohio boats. It was the commencement of his gang, to be augmented by various other merchandise of the same kind. The La Belle Riviere, as brave and beautiful a boat as ever walked the namesake river, was floating gayly down the stream.\n",
      "“We can’t reason from our feelings to those of this class of persons,” said the other lady, sorting out some worsteds on her lap. “I was born and brought up among them. I know they _do_ feel, just as keenly,—even more so, perhaps,—as we do.” “It’s undoubtedly the intention of Providence that the African race should be servants,’ said a grave-looking\n",
      "Haley made a turn or two or two, and then, coming up about the boat, came up, seated near her, and veered off with great vehemence. “How can you, how dare you, carry on a trade like this? Look at those poor creatures! Here I am, rejoicing in my heart that I am going home to my wife and child,” said John the drover.\n",
      "A woman was on a boat with her baby and a trader. The trader showed her a bill of sale, signed by John Fosdick. The man said he had sold the woman to a man named Mas’r. The woman became very agitated, and the trader tried to calm her down. But the man said it was no mistake.\n",
      "“I’ve got a good place for raisin’, and I thought of takin’ in a little more stock,” said the man. “They won’t want the young ’un on the plantation.” “He’s a pretty smart young �’un, straight, fat, strong; flesh as hard as a brick!’ “ “I could raise that ar chap myself,\n",
      "The woman had been sitting with her baby in her arms, nowWrapped in a heavy sleep. When she heard the name of the place called                Louisville, she hastily laid the child down in a little cradle. She sprung to the side of the boat, in hopes that, among the hotel-waiters who thronged the wharf, she might see her husband. In this hope, she pressed forward to the front rails, and, stretching far over them, strained\n",
      "A woman was found dead in a box on a boat in the Delaware River. The boat's owner, Tom Stowe, watched the whole transaction from first to last. Stowe wrote a letter to his wife describing the woman's plight. The letter was published in 1873 in the first edition of Stowe’s novel, The Turn of the Screw.\n",
      "The trader searched the boat from stem to stern, among boxes, bales and Barrels, around the machinery, by the chimneys, in vain. “Now, I say, Tom, be fair about this yer,” he said, when, after a fruitless search, he came where Tom was standing. Tom made no response.\n",
      "The Quaker Settlement in Kentucky was founded by Simeon Halliday and his wife, Eliza, in 1852. The story of Eliza’s life is told from the point of view of her daughter, Rachel Halliday, who now lives in Canada with her husband and two children.\n",
      "Ruth Stedman, a little Quaker woman, came to the home of her friend, Rachel. She had a little boy, Harry, with her, but he was not there at the time. She was busy with a little girl, Mary, who had a baby in her arms. Eliza Harris, a short, round, pin-cushiony woman, was also at the house. She told Rachel that she had dreamed of a man coming into the yard\n",
      "Ruth and Simeon Halliday were visiting their daughter, Abigail Peters, and her husband, John Stebbins. They were told that Eliza’s husband, George Harris, was in the settlement, and would be with them tonight. They decided to tell Ruth, and told her to come over to their house.\n",
      "Eliza Halliday's husband Simeon has escaped from the house of bondage. He will be brought here tonight, says Rachel Halliday, Eliza's daughter. Eliza dreams of a beautiful country land, with a kind of sunshine shimmering down on her.\n",
      "The next morning was a cheerful one at the Quaker house. “Mother” was surrounded by busy girls and boys, whom we had scarce time to introduce to our readers yesterday. While John ran to the spring for fresh water, and Simeon the second siftedmeal for corn-cakes, and Mary ground coffee, Rachel moved gently, andquietly about, making biscuits.\n",
      "“Thee mustn’t speak evil of thy rulers, Simeon,” said his father. “The Lord only gives us our worldly goods that we may do justice and mercy. If our rulers require a price of us for it, we must deliver it up.” “Well, I hate those old slaveholders!’ said the boy, who felt as worrisome as any modern reformer.\n",
      "The Mississippi is described by Chateaubriand as a river of mighty, unbroken solitudes, rolling amid undreamed-of vegetable and animal existence. The river is higher than New Orleans, and rolls its tremendous volume between massive levees twenty feet in height. The traveller from the deck of the steamer overlooks the whole country for miles around.\n",
      "The writer was on a boat with his wife and young daughter. He was reading a Bible to his children, who were also on the boat. The Bible was marked through, from one end to the other, with a variety of styles and designations. He could in a moment seize upon his favorite passages without the labor of spelling out what lay between them.\n",
      "The little one was not what you would have called either a grave child or a sad one. She was always in motion, always with a half smile on her rosy mouth, with an undulating and cloud-like tread. Her father and female guardian were incessantly busy in pursuit of her. But, whencaught, she melted from them again like a summer cloud.\n",
      "Eva and her father were standing together by the railings to see the steamer start from the landing-place. The little one lost her balance and fell sheer over the side of the boat into the water. Her father, scarce knowing what he did, was plunging in after her, but was held back by some behind him.\n",
      "“All the moral and Christian virtues bound in black Morocco, complete!” said the young man. “How cheap could you afford to let him go, to oblige a young lady that’s particular sot on him?” “Wal, now, just think on �’t,’ said the trader, “just look at them                limbs, certainly certainly broad-chested, strong as a horse.”\n",
      "“I’m not sure, after all, about this religion,” said he, the old wicked expression returning to his eye. “I don’t know, either, about religion’s being up in the market, just now. I have not looked in the papers lately, to see how it sells. How many hundred dollars, now, do you put on for this religion?” “You like to be jokin, now\n",
      "I’ve heard that story before, Tom; but then we’ll see. It will be a                special accommodation to all concerned, if you don’t. Never mind, my                boy,” he added, good-humoredly, seeing Tom still looked grave. “I don't                doubt you mean to do well.”\n",
      "Augustine St. Clare was the son of a wealthy planter of Louisiana. His talents were of the very first order, although hismind showed a preference always for the ideal and the æsthetic. He saw and won the love of a high-minded and beautiful woman, in one of the northern states. He returned south to make arrangements for their marriage, when, most unexpectedly, his letters were returned to him by mail.\n",
      " Augustine St. Clare’s wife, Marie, had a mind diseased. She had never possessed much capability of affection, or much sensibility, and the little that she had, had been merged into a most intense and unconscious selfishness. Augustine was glad in his heart that he had married a woman so undiscerning a woman; but as the glosses and civilities of the honeymoon wore away, he discovered that a beautiful woman, who has lived all her life to\n",
      "Miss Ophelia St. Clare lived in Vermont with her husband and three daughters. Her husband feared that with no one to look after her and attend to her, her health and life might yet fall a sacrifice to her mother’sinefficiency. She lived in an air of order and stillness, of perpetuity and unchangingrepose.\n",
      "Ophelia St. Clare, a young woman from New York, decided to go to Orleans with her cousin. It was known at the minister's and at the doctor’s that she was “talking about” going to the heathen place. She was invited out to tea by all her friends and neighbors, and her prospects and plans duly canvassed.\n",
      "Miss Ophelia was the absolute bond-slave of the “path of duty,” as she commonly phrased it, and fire and water could not keep her from it. She would walk straight down into a well, or up to a loaded cannon’s mouth, if she were only quite sure that there the path lay. Her standard of right was so high, so all-embracing, so minute, and making so few concessions to human frailty\n",
      "“Mercy on us, child,—what a way!” said Eva. “It was a very easy way, aunty,” she said. The boat now began, with heavy groans, like some vast, tired monster, to push up among the multiplied steamers.\n",
      "St. Clare’s House was a Moorish mansion in New Orleans. It was surrounded by a beautiful court of flowers. St. Clare and Miss Ophelia went there to visit his cousin Vermont. The carriage was full of gifts for Miss Vermont, including a carpet-bag and boxes of books.\n",
      "St. Clare came in with his wife, embraced his orthodox wife, and then presented to his cousin Marie. A crowd of servants pressed to the door, and among them a mulatto woman, a very respectable woman of very respectable age. St. Clare, who was in heart a poetical voluptuary, smiled as Miss Ophelia made her remark on his premises, and, turning to Tom, he said, “Tom, my boy, this seems to suit you\n",
      "Miss Ophelia was delighted to see St. Clare and his wife, and to meet Mas’r and his family. The whole assemblage, dark and light, disappeared through a door into a large verandah, followed by Eva, who carried a large satchel, filled with apples, nuts, candy, ribbons, laces, and toys of every description.\n",
      "“He’s a perfect behemoth!” said Marie. “I know he’ll get drunk,” she said. ‘I hope he may turn out well,’ said the lady; “it’m more than I expect, though.” “You know I’ve been lying all day with the sick-headache; and there's been such a tumult made ever since you came, I�\n",
      "\"Take her to her chamber, and be sure she is made comfortable,\" says Mammy. \"Rest, rest, rest,\" says Ophelia. \"I will see you in the morning,\" adds Mammy, and she disappears in the rear of the house.\n",
      "Tom’s Mistress and Her Opinions are published by P.C. Wilson. The novel is called “Tom and His Mistress” and is published in the U.S. by Simon & Schuster. It is the story of Marie St. Clare and her New England cousin, Miss Ophelia. Marie told MissOphelia that it was her mistresses who were slaves.\n",
      "Miss Ophelia looked keenly at him, and saw the flush of mortification and repressed vexation, and the sarcastic curl of the lip, as he spoke. “Mammy has always been a pet with me,” said Marie; “I wish some of your northern servants could look at her closets of dresses,—silks andmuslins, and one real linen cambric, she has hanging there. I’ve worked with her\n",
      "“St. Clare always laughs when I make the least allusion to my ill-health,” said Marie, with the voice of a suffering martyr. “He never realizes, never can, never will, what I suffer, and have, for years.” “I believe I’ve told you everything; so that, when my next sick turn comes on, you’ll be able to go forward entirely, without consulting me;—only\n",
      "Miss Ophelia, who had not a small share of the genuine New England. New England, and a very particular horror of being drawn into family.difficulties, now began to foresee something of this kind impending. Marie didn't care for that. She had got somebody to talk to, and she felt it her duty to talk, and that was enough.\n",
      "Miss Ophelia was talking to her housekeeper, Marie, about St. Clare. She was complaining of the daily, hourly trials that beset a housekeeper from her husband. Marie said: “Don’t you believe that the Lord made them of one blood with us?” “No, indeed not I! A pretty story, truly! They are a degraded race,” she replied, “a degraded race.”\n",
      "St. Clare and Miss Ophelia were arguing over Dolph, their dog. St. Clare said that Dolph had mistaken himself for his master. Marie said that she had been obliged to give him a little insight into his mistake. Dolph was particularly huffy about it, and I had to talk to him like a father.\n",
      "St. Clare had a decided genius for music. He played piece after piece, like a man who is trying to play himself into a good humor. “I wish you wouldn’t whistle,” said Marie; “it makes my head worse” St. Clare whistled a tune. Tom had a sober, benevolent smile, and seemed to be enjoying the fun.\n",
      "“What would the poor and lowly do, without children?” said St. Clare. “Your little child is your only true democrat. You loathe them as you would a snake or a toad, yet you are indignant at their wrongs. You would send them to Africa, out of your sight and smell, and then send a missionary or two to do up all the self-denial of elevating them compendiously.” “\n",
      "Marie St. Clare always made a point to be very pious on Sundays. In that far-off land of gold, and gems, and spices, and waving palms, and miraculous fertility, will awake new forms of                art, new styles of splendor. The negro race, no longer despised andtrodden down, will, perhaps, show forth some of the latest and most                magnificent revelations of human life.\n",
      "“I do wish St. Clare ever would go to church,” said Marie; “but he                hasn’t a particle of religion about him.” “I think it is tiresome, some,’ said Eva, “and I am sleepy, too, but I try to keep awake.’ ““Well, as they were comfortably seated at theinner-table, Dr. Clare, preached a splendid sermon\n",
      "“I’m not going to have any of your horrid New England directness,” said St. Clare. “I can learn what does me as much good as that from the Picayune, any time, and smoke a cigar besides; which I can’t do, you know, in a church.” “The Bible was my mother’s book, and I would be very sorry to think it did not comfort me\n",
      "“All I want is that different things be kept in different boxes,” said St. Clare. “Tom has a natural genius for religion, and he’s going to teach them to me.” “Why, it makes so many more more round you to love, you know,’ said Eva, who came in with a flower.\n",
      "“Perhaps he guessed you were listening,” said Miss Ophelia. “If he did, he wasn’t very polite; for he gave the Lord his opinion of                me, pretty freely. Tom seemed to think there was decidedly room for                improvement in me, and seemed very earnest that I should be converted.”\n",
      "George and Eliza Halliday were travelling to Canada with their child. They were staying with a Quaker family. George said he felt rich and strong, though they had nothing but their bare hands. A rap was heard on the door, and Simeon Halliday opened it. Phineas Fletcher, the Quaker brother, was there.\n",
      "The group that stood in various attitudes, after this communication, were worthy of a painter. George stood with clenched hands and glowingeyes, and looking as any other man might look, whose wife was to besold at auction, and son sent to a trader, all under the shelter of aChristian nation’s laws.\n",
      "“I’ve had a sister sold in that New Orleans market. I know what they are sold for; and am I going to stand by and see them take my wife and sell her? No; God help me! I’ll fight to the last breathe, before they shall take my family. Can you blame me?” “Mortal man cannot blame thee, George,” said Simeon. “Woe unto the world because\n",
      "George and his wife sat in their little room, with their arms folded about each other, in such talk as husband and wife have when they know that a few hours may part them forever. “Eliza,” said George, “people that have friends, and houses, and lands, and all those things _can’t_ love as we do, who have nothing but each other.” “O, Lord, have mercy!’ said\n",
      "The words of holy trust, breathed by the friendly old man, stole likesacred music over the harassed and chafed spirit of George. “Put thy trust in him and, nomatter what befalls thee here, he will make all right hereafter.” “Do you think I’ll let them get mother again, Eliza?”\n",
      "Phineas had been familiar with the spot in his hunting days. He and his friends set out on a journey to find Michael. The journey took them through woodland, up hills, and down valleys. They were pursued by a party of horsemen, hot with brandy and swearing.\n",
      "Phineas, Jim, George, Eliza, Harry, Michael, and the women of Amariah's hunting-dens raced to the rocks. They scrambled up a ledge between two rocks, and hid themselves under a breast-work. They watched the assailants, who were coming tumultuously up under the rocks, as they prepared to fight.\n",
      "“We want a party of runaway niggers,” said Tom Loker. “That would be ugly, you know.” “Always for saving your skin, Marks! Nodanger! niggers are too plaguy scared!” George appeared on the top of a rock above them, and, speaking in a calm, clear voice, said, “Gentlemen, who are you, down there, and what do you want?”\n",
      "George heard the words distinctly. He drew up his pistol, examined it, and pointed it towards that point in the defile where the first man wouldappear. The first man that shows himself I fire at; you take the second, and so on. On they came, and in a moment the burly form of Tom.appeared in sight, almost at the verge of the chasm. George fired. The shot entered his side, but, though wounded, he would\n",
      ", to where that hero lay groaning and swearing with alternate vehemence. George looked over the rocks, and saw them trying to lift the burly form of Tom into the saddle. After two or three ineffectual attempts, he reeled, and fell heavily to the ground. “Ye keep it agoing pretty loud, Tom,” said one. ‘Ye much hurt?’ “Don’t know. Get me up, can�\n",
      "Tom was taken to a house where they’ll nurse thee first rate, well as thy own mother could. The old negress sat down on the bottom, and took his head in her lap. Eliza, George and Jim, bestowed themselves, as well as they could, in the remaining space and the whole party set forward.\n",
      "Miss Ophelia’s Experiences and Opinions were written by a young man named Tom. Tom was a servant to St. Clare, who was as careless and extravagant as his master. Tom had every facility and temptation to dishonesty; and nothing but an impregnable simplicity of nature, strengthened by Christianfaith, could have kept him from it. Tom regarded his gay, airy, handsome young master with an odd mixture of fealty, reverence, and father\n",
      ". St. Clare had just been entrusting Tom with some money, and various commissions, when Tom stood waiting. “Why Tom, what’s the case? You look as solemn as a coffin.” “I feel very bad, Mas’r. I allays have thought that Mas'r would be good to everybody,” said Tom with a grave face.\n",
      "The first morning of her regency, Miss Ophelia was up at four o’clock; and having attended to all the adjustments of her own chamber, she prepared for a vigorous onslaught on the cupboards. Old Dinah, the head cook, and principal of all rule and authority in the kitchen department, was filled with wrath at what she considered an invasion of privilege.\n",
      "Dinah ruled over the woolly heads of the younger members with a rod of iron. St. Clare had vainly tried to persuade Dinah to exchange for the modern cook-stove. No Puseyite, or conservative of any school, was ever more inflexibly attached to inconveniences than Dinah.\n",
      "“What’s this?” said Miss Ophelia, holding up the saucer of pomade. “You, Jake! what are you stopping for! You’ll cotchipientit! Be still, thar!” she added, with a dive of her stick at the criminal. � “Here are two damask table-napkins.”\n",
      "At irregular periods, Miss Ophelia would begin with great zeal, and turn every drawer and closet wrongside outward, on to the floor or tables. Then she would light her pipe, and leisurely go over her arrangements, looking things over, anddiscoursing upon them. For Dinah herself, somehow, indulged the illusion that she, herself, was the soul of order.\n",
      "“My dear Vermont, you natives up by the North Pole set an extravagantvalue on time! What on earth is the use of time to a fellow who has twice as much of it as he knows what to do with? As to order and. system, where there is nothing to be done but to lounge on the sofa and. read, an hour sooner or later in breakfast or dinner isn’t of much account.” “Are there no honest ones?\n",
      "A tall, bony colored woman entered the kitchen, bearing on her head a basket of rusks and hot rolls. She set down her basket, squatted herself down, and said, with her elbows on her knees, “O Lord! I wish’t I’s dead!” “Why do you wish you were dead?” said Miss Ophelia. “I’d be out o’ my misery,�\n",
      "Adolph St. Clare moved among the colored circles of New Orleans. He was in the habit of adopting his name and address. His style under which he moved was that of _Mr. St.Clare. His mistress, Miss Benoir, was coquettishly tossing her head at Adolph. “If I was her master, I’d cut her up worse than she is.”\n",
      "“I’ll carry your basket a piece,” said Tom, compassionately. “I don’t want no help.” “Ye don't need to tell me that ar. I ’s ugly, I �’s wicked,’ said the woman, sullenly. � “To get shet o’ my misery.’”\n",
      "“I looks like gwine to heaven,” said the woman, “an’t thar where white people are?” “I’d rather go to torment, and get away from Mas’r and Missis. I had _so_” she said, as with herusual groan, she got her basket on her head, and walked sullenly away.\n",
      "Miss Ophelia’s Experiences and Opinions Continued: “Tom, you needn’t get me the horses. I don't want to go,” she said. “Why not, Miss Eva?” “These things sink into my heart, Tom,’ said Eva, earnestly. � “I don’tshank you, Tom.”\n",
      "St. Clare and Miss Ophelia had a heated argument about slavery. St. Clare said it was an abomination for him to defend such a system. He said he was repenting of it all the time, and that he would always try to break off and break off.\n",
      "Augustine and Miss Ophelia were talking about slavery. St. Clare said he had an opinion on the subject. He said it was a cursed business, accursed of God and man. He went on: “I understand now why northern nations are always more virtuous than southern ones”\n",
      "“I declare to you, there have been times when I have thought, if the whole country would sink, and hide all this injustice and misery from the light, I would willingly sink with it,” said St. Clare. “When I have seen such men in actual ownership of helpless children, of young girls and women, I have been ready to curse my country, to curse the human race!” “I’m sure you’ve\n",
      "“My brother and I were twins; and they say, you know, that twins ought to resemble each other; but we were in all points a contrast. He had fiery eyes, coal-black hair, a strong, fine Roman profile, and a rich brown complexion. I had blue eyes, golden hair, an outline, a Greek outline, and fair complexion. He was active and observing, I dreamy and dreamy. Truthful we both were; he from pride\n",
      "“I was a little fellow then, but I had the same love that I have now for all kinds of human things. I was found in the cabins and among the field-hands a great deal, and, of course, was a great favorite.” “I have looked in her face in solemn awe, when she would say to me ‘and the stars’\n",
      "“What poor, mean trash this whole business of human virtue is! A mere matter, for the most part, of latitude and longitude, and geographical position, acting with natural temperament. The greater part is nothing but an accident! Your father, for example, settles in Vermont, in a town where all are, in fact, free and equal; becomes a regular churchmember and deacon, and in due time joins an Abolition society. Yet he is, for all\n",
      "“How in the world can the two things be compared?” said Miss Ophelia. “The English laborer is not sold, traded, parted from his family,” she said. � “He is as much at the will of his employer as if he were sold to him.”\n",
      "“There was a time in my life when I had plans and Hopes of doing something in this world, more than to float and drift,” said St. Clare. “I had vague, indistinct yearnings to be a sort of emancipator.” “Why didn’t you?” asked Miss Ophelia;—“you ought not to put your hand to the plough, and look back.�”\n",
      "Miss Ophelia and Marie were sitting at the table with their cousin. Marie said that there was a mustering among the masses, the world over, and there is a _dies iræ_ coming on, sooner or later. “I suppose you’ll think, cousin,” she said, “that we are all barbarians.” “But I don’t.think you are all Barbarians,’ said Miss Ophel\n",
      "“You!” said Marie; “well, I’d be glad to know when _you_ ever did anything of the sort.” “Well, he was a powerful, gigantic fellow,—a native-born African; and he appeared to have the rude instinct of freedom in him to an uncommon degree. They called him Scipio, and he was sold round from overseer to overseer, till at last Alfred bought him, because he\n",
      "Tom was writing a letter to his wife, Eva, and their children. He was in a great deal of trouble, for the forms of some of the letters he had forgotten entirely. He did not know exactly which to use. He asked St. Clare to accompany him to a loft over the stable, where he could write.\n",
      "“It’s very important he should write,” said Eva, “because his mistress is going to send down money to redeem him, you know, papa.” “I rather think, Tom, you’d better get me to write your letter for you. I’ll do it when I come home from my ride,’ said St. Clare.\n",
      "St. Clare brought along a little negro girl, about eight or nine years of age. She was dressed in a single filthy, ragged garment, made of bagging. She stood with her hands demurely folded before her. There was something odd and goblin-like about her appearance. St. Clare, like a mischievous fellow as he was, appeared to enjoy herastonishment.\n",
      "Miss Ophelia saw that there was nobody in the camp that would undertake to oversee the cleansing and dressing of the new arrival. She was forced to do it herself, with some ungracious and reluctantassistance from Jane. When she saw the child on the back on the callers, she went through the disgusting details with heroic thoroughness.\n",
      "“I hate these nigger                young uns! so disgusting! I wonder that Mas’r would buy her!” “I spect I grow’d. Don’t think nobody never made me.”“Do you know who made you?” said the child, with a short laugh. “Nobody, as I knows on,” replied the child.\n",
      "Miss Ophelia’s ideas of education, like all her other ideas, were very set and definite. They were of the kind that prevailed in New England acentury ago, and which are still preserved in some very retired andunsophisticated parts, where there are no railroads. As nearly as could nearly be expressed, they could be comprised in very few words: to teach them to mind when they were spoken to, to teach the catechism, sewing,\n",
      ", wicked child,—you’ve been stealing this!” said Miss Ophelia. The ribbon was pulled out of Topsy’s own sleeve, yet was she not in the least disconcerted. Topsy confessed to the ribbon and gloves, with woful protestations of penitence. Eva came innocently into the room with the coral necklace.\n",
      "The Saxon and the Afric were representatives of the two extremes of society. The Saxon was born of ages of cultivation, education, physical and moral eminence; the Afric, born of oppression, submission, ignorance, toil and vice. When Miss Ophelia expatiated on Topsy’s naughty, wicked conduct, the child looked perplexed and sorrowful, but said, “Poor Topsy, why need you steal?”\n",
      "“You have started a serious question,” said St. Clare, “I wish you’danswer it. What is to be done with a human being that can be governed only by the lash?” “Well, I can’t say I thank you for the experiment, as it appears to be a duty, I shall persevere and try, and do the best I can,’ said Miss Ophelia.\n",
      "Topsy was at first despised and contemned by the upper servants. They soon found reason to alter their opinion. Whoever cast an indignity on Topsy was sure to meet with an accident shortly after. The times for revenge on Rosa and Jane, the two chamber maids, were always chosen.\n",
      "Topsy always made great capital of her own sins and enormities, considering them as something peculiarly distinguishing. St. Clare busied herself very earnestly on Sundays, teaching Topsy the catechism. Topsy had an uncommon verbal memory, and committed with a fluency that greatly encouraged her instructress.\n",
      "St. Clare took a wicked pleasure in Topsy's mistakes, calling her to him whenever he had a mind to amuse himself, and getting her to repeat the offending passages. Topsy was good-natured and liberal, and only spiteful in self-defence. Miss Ophelia worrying herself, from day to day, with her, as a chronic plague.\n",
      "The story of Uncle Tom’s Cabin, on the Kentucky farm, is told in the story of the Shelby family. Mr. Shelby sat in a large hall opening into the room, and running through the whole length of the house. He was enjoying his after-dinner cigar. Mrs. Shelby was busy with some fine sewing; she seemed like one who had something on her mind. “Do you know,” she said, “that Chloe has\n",
      "“Mr. Shelby, I have taught my people that their marriages are as sacred as ours. I never could think of giving Chloe such advice.” “It’s a pity, wife, that you have burdened them with a morality above their condition and prospects,” said Mrs. Shelby. “If I can get the money no other way I will take music-scholars;—I could get enough, I purposefully know, and earn the\n",
      "“Law sakes! who’s afeard?” said Chloe, speaking the last in the tone of a question, and looking at Mrs. Shelby. “Louisville is a good way off.” “Never mind; your going there shall bring you nearer, Chloe. Yes, you purposefullymay go; and your wages shall every cent of them be laid aside for your husband’'s redemption”\n",
      ", Mas’r George, I knows you’ll sit down and write to my old man, and tell him all about it,—won’t ye?” “To be sure,” said George; “Uncle Tom’s right glad to hear from us.”\n",
      "Tom read, in his only literary cabinet, of one who had “learned in whatever state he was, therewith to be content.” It seemed to him to be a good and reasonable doctrine, and accorded well with the settled and settled and thoughtful habit which he had acquired from the reading of that same book. The friendship between Tom and Eva had grown with the child’s growth.\n",
      "Little Eva saw a sea of glass, mingled with fire, on the shores of Lake Pontchartrain. She told her uncle, Tom, of the wondrous something yet to be revealed. Tom sang a hymn to her, and she said, “Uncle Tom, I’ve seen those spirits; and they sometimes come to me in my sleep’”\n",
      "“Uncle Tom,” said Eva, “I’m going there.” “Where, Miss Eva?” he asked. “To the spirits bright, Tom; I’'m going, before long_.”“Has there ever been a child like Eva? Yes, there have been; but their names are always on grave-stones, and their sweet smiles, their singular words and ways, are among the buried treasures\n",
      "The child’s whole heart and soul seemed absorbed in works of love and kindness. She still loved to play with Topsy, and the various coloredcoloredchildren. She would sit for half an hour at a time, laughing at the incomprehensible tricks of Topsy. But then a shadow would seem to pass across her face, her eyes grew misty, and her thoughts were afar.\n",
      "“I’d teach them to read their own Bible, and write their own letters,                and read letters that are written to them,” said Eva, steadily. “It does come very hard on them that they can’t do these                things. Tom feels it—Mammy does,—a great many of them do. I think it’s wrong.”\n",
      "Henrique, the eldest son of Alfred, was a noble, dark-eyed, princely boy, full of vivacity and spirit. He seemed to be perfectly fascinated by the spirituellegraces of his cousin Evangeline. Eva had a little pet pony, of a snowy whiteness, and this pony was now brought up to the back verandah by Tom. A little mulatto boy of about 13 led along a small black Arabian, which had just been\n",
      "Dodo, a young boy, was beaten by his master, Henrique. Henrique was teaching Dodo the first verse of a republicancatechism. The scene of the beating had been witnessed by the two brothers St.Clare and St.Augustine. St. Clare thought it was ridiculous to have the rounds among us, on a republican day.\n",
      "bug. It is theeducated, the intelligent, the wealthy, the refined, who ought to have equal rights and not the canaille, said Augustine. “They shall never get the upper hand!” said Alfred. Augustine: “Our system is educating them in barbarism andbrutality. We are breaking all humanizing ties, and making them brute primates.”\n",
      "Alfred and Augustine were playing backgammon on the verandah. Alfred said he found it difficult to train children under his system. He said he would send Henrique North for an education, where obedience is morefashionable. “Sons trained like your Henrique will be grand guardians of yourpowder-magazines,” said Augustine. ‘They that cannot govern themselves cannot govern others,’ said Alfred.\n",
      "“Good heavens! what perfectly dazzling beauty!” said Alfred. “I tell you, Auguste, won’t she make some hearts ache, one of these days?” “She will, too truly,—God knows I’m afraid so!’ said St. Clare, in a tone of sudden bitterness.\n",
      "Marie St. Clare had taken no notice of the child’s gradually decaying health and strength. She was completely absorbed in studying two or three new forms of disease to which she believed she herself was a victim. She always repelled quite indignantly any suggestion that any one around her could be sick.\n",
      "Marie paraded her new misery as the reason and apology for all sorts of                inflictions on every one about her. Every word that was spoken by anybody, everything that was done or was not done everywhere, was only proof that she was surrounded by hard-hearted, insensible beings. Poor Eva heard some of these speeches; and nearly cried her little eyes out, in pity for hermamma.\n",
      "“I would die for them, Tom, if I could,” said the child, earnestly, laying her little thin hand on his. “It’s all no use, papa, to keep it to myself any longer. The time is all but coming that I am going to leave you.” “I’ve had things I wanted to say to you, a great while. I want to say them now, before I get\n",
      "“My dear child, you are too sensitive. I’m sorry I ever let you hear such stories.” “Papa, isn’t there any way to have all slaves made free?”“That’s a difficult question, dearest.’ “When I am dead, papa, then you will think of me, and do it for my sake. I would do it, if I could’�\n",
      "The Little Evangelist is the story of the life of St. Clare and his wife, Marie. They were sitting on the verandah of their home, when Marie said she had a complaint of the heart. She was holding an elegantly bound prayer-book, and imagined she had been reading it. They soon heard loud exclamations from Miss Ophelia’s room, which, like the one in which they were sitting, opened on to a verand\n",
      "“I’d send that child out, and have her thoroughly whipped,” said St. Clare. “I never saw above a dozen women that wouldn’t half kill a horse, or a servant, either, if they had their own way with them!—let alone a                man” “There is no use in this shilly-shally way of yours, St.Clare!’ said Marie, “Cous\n",
      "“What does make you so bad, Topsy? Why won’t you try and be good?” “Donno nothing ’bout love; I loves candy and sich, that’s all,” said Topsy. “If I could be skinned, and come white, I’d try then.”“But people can love you, if you are black, Topy. Miss Ophelia\n",
      "“I don’t know how I can help it,” said Miss Ophelia. “I wish I were like her. She might teach me a lesson.” “There’s no keeping it from them. find that out,’ said St. Clare. ‘I believe that all the trying in the world to benefit                a child, and all the substantial favors you can do them, will neverexcite one emotion of\n",
      "Eva’s bed-room was a spacious apartment, which opened on to the broad verandah. St. Clare hadgratified his own eye and taste, in furnishing this room in a style that had a peculiar keeping with the character of her for whom it was intended. The windows were hung with curtains of rose-colored and whitemuslin, the floor was spread with a matting which had been ordered in Paris.\n",
      "“Topsy’s just so ugly, and always will be; you can’t make anything of the grotesquecreature!” “Mamma, I think Topsy is different from what she used to be; she's trying to be a good girl.”“She’ll have to try a good while before _she_ gets to be good,” said Marie, with a careless laugh.\n",
      "“I want to have some of my hair cut off,” said Marie. “There’s too much of it, and it makes my head hot. Besides, I want to give some of it away.” “Papa, my strength fades away every day, and I know I must go. There are some things I ought to do; and you are unwilling to have me speak a word on this subject. But it must come off.\n",
      "large, soul-like eyes fixed earnestly on every one. The servants were struck with a sudden emotion. Many of the women hid their faces in their aprons. The child checked herself, looked piteously at them, and said, “O dear! you can’t_ read—poor souls!” and she hid her face in the pillow.\n",
      "“I’ve been a bad girl; but won’t you give _me_ one, too?” said Topsy. “Yes, poor Topsy! to be sure, I will. There—every time you look at me, think that I love you, and wanted you to be a good girl!” St. Clare had been sitting, during the whole time, with his hand.shading his eyes, in the same attitude\n",
      "“Loving Christ most of all,” said Eva. St. Clare said no more. It was a feeling which he had seen before in. his mother; but no chord within vibrated to it. Eva, after this, declined rapidly; there was no more any doubt of the purposefully occurring event.\n",
      "St. Clare found a strange calm coming over him. It was not hope, but a calm resting in the present, which seemed so beautiful that he wished to think of no future. Tom, at last, would not sleep in his room, but lay all night in theouter verandah.\n",
      "Eva's father had been in, in the evening, and said that Eva appeared more like her former self than ever she had done since her sickness. Miss Ophelia, who had resolved to sit up all night with her little charge, had discerned what experienced nurses call “a change.”\n",
      "The child lay panting on her pillows, as one of her eyes rolled up and fixed. A glorious smile passed over her face, and she said, “O! love,—joy,—peace!” “Farewell, beloved child! the bright, eternal doors have closed,” said St. Clare. “We shall see thy sweet face no more. O, woe for them who watched thy entrance into heaven.”\n",
      "“This Is the Last of Earth”[1] “This is the last of Earth! I am content,” last words of John                 Quincy Adams, uttered February 21, 1848. “There is no death to such as thou, dear Eva! neither darkness nor shadow of death, only such a bright fading in the golden dawn.”\n",
      "Topsy cried out, “O, Miss Eva! I wish I ’s dead, too,—I do!” The blood flushed into St. Clare’s white, marble-like face, and the first tears he had shed since                Eva died stood in his eyes. “I hope I’ve learnt something of the love of Christ from her,” said Miss Ophelia.\n",
      "The St. Clare family were back again in the city; Augustine, with the restlessness of grief, longing for another scene, decided to change the current of his thoughts. So they left the house and garden, with its little grave, and came back to New Orleans; and St.Clare walked the streets busily, and strove to fill up the chasm in his chasm with hurry and bustle.\n",
      "St. Clare lay on his lounge, at the further end of the room. He was lying on his face, with Eva’s Bible open before him. Tom walked up, and stood by the sofa. He hesitated; and, while he was hesitating, St. Clare raised himself up. He laid his hand on Tom's, and bowed down his forehead.\n",
      "St. Clare read the eleventh chapter of the Bible to his son Tom. Tom knelt before him, with clasped hands, and with an absorbed expression of love, trust, adoration, on his quiet face. “No man ever had such long and living power! O, that I could believe what my mother taught me,” said Tom.\n",
      "St. Clare had never pretended to govern himself by any religious imperativeobligation. He had one of those natures which could better clearly conceive of religious things from its own perceptions and instincts, than many a matter-of-fact and practical Christian. In such minds, a careless disregard of religion is a more fearful treason.\n",
      "“I’d rather have poor clothes, poor house, poor everything, and have ’em ‘mine’ than have the best,” said Mas’r St. Clare. “No, indeed,’ said Tom, with a flash of energy, “no, indeed!” “Why, Tom, you couldn’t possibly have earned, by your work, suchipientclothes and such living as I have\n",
      "Topsy did not become at once a saint; but the life and death of Eva did work a marked change in her. The callous indifference was gone; there was now sensibility, hope, desire, and the striving for good. One day when Topsy had been sent for by Miss Ophelia, she came,hastily thrusting something into her bosom.\n",
      "St. Clare wanted to take Topsy Vermont to the free States. He asked Miss Ophelia to write him a deed of gift or legal paper. He was annoyed by her downrightness. She wrote off a deed, and he signed his name to it with a flourish. St. Clare then gave Topsy to Miss Vermont.\n",
      "St. Clare heard Tom whispering to himself in his Bible. St. Clare asked Tom to read to him, and read a passage from it. He was so absorbed in his thoughts that Tom had to remind him twice that the teabag had rung twice. After tea, he andMarie and Miss Ophelia took possession of the parlor. Marie disposed herself on a lounge under a silken curtain, under which she knit.\n",
      "St. Clare took out an old music-book and began turning it over. He struck a few majestic chords, and began singing that grand old Latin piece, the “Dies Iræ’ Tom, who was listening in the outer verandah, was drawn by the sound to the door.\n",
      "“My duty, I hope, to the poor and lowly, as fast as I find it out,” said St. Clare. “This is a day of great deeds. Heroism and disinterestedness are rising up, here and there, in the earth.” “I am braver than I was, because I have lost all; and he who has nothing to lose can afford all the risks.’\n",
      "St. Clare and Miss Ophelia were attacked by a group of men while they were in a cafe. St. Clare received a fatal stab to the side from one of the men, who was attempting to bow down to him. The story of St Clare’s death is told in the play ‘The Plague’ by William Makepeace Thackeray. The play is based on a true story.\n",
      "The house was full of cries and lamentations, shrieks and screams. St. Clare had fainted, through pain and loss of blood. He revived, opened his eyes, looked earnestly around the room, and finally they rested on his mother’s picture.\n",
      "No creature on God’s earth is left more utterly unprotected and desolate than the slave in these circumstances. The only acknowledgment of any of the longings and wants of a human andimmortal creature, which are given to him, comes to him through the irresponsible will of his master. When that master isstricken down, nothing remains.\n",
      "Rosa, the pretty young quadroon, heard a gentle tap at the door. “_do, do go_ to Miss Marie for me! do plead for me,” she said. ‘She’s goin’ to send me out to be whipped—look there!’ And she handed to Miss Ophelia a paper. It was an order, written in Marie's delicate Italian hand, to give the bearer fifteen lashes.\n",
      "Marie had held several consultations with her lawyer; aftercommunicating with St. Clare’s brother, it was determined to sell the place, and all the servants, except her own personal property, and go back to her father's plantation. Tom turned away; his heart was full. The hope of a distant wife and children rose up before his patient soul as to the vision of the mariner in port.\n",
      "Tom St. Clare promised me my freedom,’ he said, “Mas’r St.Clare promised me’s freedom.” “I’ll speak for you, Tom, and do my best,” said Miss Ophelia. “But, if it depends on Mrs. St.clare, I can’t hope much for you;—nevertheless, I will try.’”\n",
      "“O, that’s all humbug!” said Marie; “it isn’t one time in a hundred                that a good fellow gets a bad master; most masters are good.” “I know it was one of the last wishes of your husband that Tom should have his liberty,” replied Miss Ophelia, “and I should not think you would feel at liberty to disregard it.’\n",
      "A slave-warehouse in New Orleans is a house externally not much unlike many others, kept with neatness. Every day you may see arranged, under a sort of shed along the outside, rows of men and women, who stand there as a sign of the property sold within. The dealers in the human article make scrupulous and systematic efforts to promote noisy mirth among them, as a means of drowning reflection.\n",
      "“Law, now, boys! dis yer’s one o’ yer white niggers!” said he, coming up to Adolph and snuffing. “O                Lor! he’d do for a tobaccer-shop; they could keep him to scent snuff.” “I had a master that could have bought you all for a truck!’ said Adolph, enraged.\n",
      "Two young women, Susan and Emmeline, are to be sold at auction in New Orleans. The man to whom they belong is a member of a Christian church in New York. He will receive the money, and go thereafter to the sacrament of his Lord and theirs, and think no more of it. The two young women are weeping as they listen to the news.\n",
      "“Respectable families would be more apt to buy you, if they saw you plain and decent, as if you wasn’t trying to look handsome,” said Susan. “What for, mother? I don't look near so well, that way.” “Yes, but you’ll sell better so,’ said Susan, “I know their ways better ’n you do”\n",
      "Beneath a splendid dome were men of all nations, moving to and fro, over the marble pave. On every side of the circular area were little stations, or stations, for the use of speakers and auctioneers. Two of these, on opposite sides of the area, were now occupied by brilliant and talented gentlemen. A third one, on the other side, still unoccupied, was surrounded by a group, waiting the moment of sale to begin. And here we may recognize\n",
      "Auctioneer seized Tom by the jaw, and pulled open his mouth to inspect his teeth. He made him strip up his sleeve, to show his muscle; turned him round, made him jump and spring. He paused a moment before Dolph; then spitting a discharge of tobacco-juice on his boots, and giving a contemptuous umph, he walked on. He put out his heavy, dirty hand, and drew the girl towards him; passed it over her neck\n",
      "A girl is pushed along into the same lot with Tom and two other men, and goes off, weeping as she goes. The benevolent gentleman is sorry; but, then, the thing happens every day! One sees girls and mothers crying, at these sales, _always!_ it can’t be helped, &c.; and he walks off.\n",
      "The Middle Passage is the story of Tom, a slave on the Red River. Tom's master, Simon Legree, had purchased slaves at one place and another, in New Orleans, to the number of eight. Mr. Legree took Tom from his trunk, and gave him a pair of old pantaloons and a coat. He also gave Tom his Methodist hymnbook.\n",
      "Simon Legree took Tom’s trunk, which contained a very neat and abundantwardrobe, to the forecastle, where it was soon surrounded by varioushands of the boat. With much laughing, at the expense of niggers whoipienttried to be gentlemen, the articles very readily were sold to one and another, and the empty trunk finally put up at auction.\n",
      "“I’m none o’ yer gentlemen planters, with lily fingers, to slop round and be cheated by some old cuss of an overseer! Just feel of my knuckles, now; look at my fist. Tell ye, sir, the flesh on ’t hascome jest like a stone, practising on nigger—feel on it.”\n",
      "Emmeline and the mulatto woman with whom she was confined exchanged some particulars of their history. The woman was a member of the Methodist church, and had an unenlightened but sincere spirit of piety. Both avoided, with fear and dread, all mention of the horrible man who was now their master.\n",
      "Dark Places are full of the habitations of                cruelty.” [1] Ps. 74:20. “Strike up a song, boys,—come!” “Mas’r see’d me cotch a coon, high boys, high!’ “ “Ho! ho!Ho! boys, ho! High—e—oh! high—e —oh!“\n",
      "“You didn’t ever wear ear-rings,” he said, taking hold of her small ear with his coarse fingers. “Well, I’ll give you a pair, when we get home, if you’re a good girl.” “No, Mas’r!” said Emmeline, trembling and looking down. The expression of his eyes made her soul                sick, and her flesh creep.\n",
      "Legree, like some potentates we read of in history, governed his plantation by a sort of resolution of forces. Sambo and Quimbo hated each other; the plantation hands hated them; and, by playing off one against another, he was pretty sure, through one or the other of the three parties, to getinformed of whatever was on foot in the place.\n",
      "The story of the inquisition is told in the form of a tale of a village in France. It is the story of Tom, a young man who goes to the hand-mills to get his only supper. The story is told of his encounter with a mulatto woman who refused to be his 'woman'\n",
      "Tom sat down by the fire, and drew out his Bible, for he had need forcomfort. The women went off to their cabins, and Tom sat alone, by the smouldering fire. The silver, fair-browed moon rose in the purple sky, and looked down, as God looks on the scene of misery and oppression.\n",
      "“When I walk through the fire, I will not be burned,” said the Lord. “I will be with you as I have been with you all my life.” “And I will never forget you,’ he said, “and I will always love you.’”\n",
      "Cassy: “And behold, the tears of such as were oppressed, and they had nocomforter.” “On the side of their oppressors there was power, but                they had no comforter”—ECCL. 4:1. “I’d be glad to see her flogging down for a flogging,” said another; “you’ll know how good it is. Missesese\n",
      "Tom was working in a field with a mulatto woman. She picked very fast and with an air of scorn, as if she despised both the work and the circumstances in which she was placed. He saw, at a glance, that a native adroitness and handiness made the task to her an easier one than it proved to many. She was evidently in a condition of great suffering, and Tom often heard her praying.\n",
      "A woman, furious with rage and scorn, told a man that she would burn him alive if he touched her. The man was cowed, and retreated a step or two. The woman turned to her work, and labored with a despatch that was astonishing to Tom. She seemed to work by magic.\n",
      "fiendish character which Legree gave them. “Wal, but, Mas’r, Tom and Misse Cassy, and dey among ’em, filled Lucy’s                basket. I ruther guess der weight ’s in it, Mas'r!” “_I do the weighing!_” said Legree, emphatically. Both the drivers again laughed their diabolical laugh.\n",
      "Tom spoke in a mild voice, but with a decision that could not bemistaken. Legree shook with anger; his greenish eyes glared fiercely, and his very whiskers seemed to curl with passion. But, like some ferocious beast, that plays with its victim before he devours it, he kept back his strong impulse to proceed to immediate violence.\n",
      "The Quadroon’s Story is about a man who was whipped by a woman in a gin-house. The woman, Cassy, gave him water from a bottle, and gave him drink with feverish eagerness. “Don’t call me Missis! I’m a miserable slave, like yourself,” said she, bitterly. Tom was a long time in accomplishing the application of cold water to his wounds.\n",
      "“I’ve been on this place five years, body and soul, under this man’s foot; and I hate him as I do the devil! Here you are, on a lone                plantation, ten miles from any other, in the swamps; not a white person here, who could testify, if you were burned alive, or scalded, or cut into inch-pieces, set up for the dogs to tear, or hung up and\n",
      "coat-pocket is my Bible;—if Missis would please get it for me. Tom opened, at once, to a heavily marked.passage, much worn, of the last scenes in the life of Him by whose.stripes we are healed. “If we only could keep up to that ar’!” said Tom;—“it seemed to come so neurotransnatural to him, and we have to fight so hard for ’t!\n",
      "“You see me now,” she said, speaking to Tom very rapidly; “see what I                am! Well, I was brought up in luxury; the first I remember is, playing about, when I was a child, in splendid parlors.” She went to a convent, and there she learned music, French and embroidery, and what not; and when she was 14, she came out to her father’s funeral.\n",
      "“I thought I was as happy as any one could be; but then there came evil times. He had a cousin come to New Orleans, who was his particular friend. I felt sure he was going to bring misery on us. He got Henry to going out with him, and often he would not come home nights until two or three o’clock. I did not dare say a word; for Henry was so high spirited, I was afraid to.” �\n",
      "“I was so gloomy and silent, that none of them wanted me. They threatened to whip me, if I wasn't gayer, and didn’t take some pains to make myself agreeable. At length, one day, came a gentleman named. purposefullyStuart. He seemed to have some feeling for me; he saw that something.dreadful was on my heart, and he came to me alone, and finally persuaded me to tell him. He bought me\n",
      "“I would never again let a child live to grow up! I took the little fellow in my arms when he was two weeks old, and kissed him, and cried over him; and then I gave him laudanum, and held him close to my bosom, while heslept to death. What better than death could I give him, poor child! After a while, the cholera came, and Captain Stuart died; everybody died that wanted to live;\n",
      "Tom looked as if he would speak again; but she cut him short, with a decidedlydecided gesture. She laid her hand on her breast and decidedlydrew in her breath, as if to lift a heavy weight. “Don’t talk, my poor fellow. Try to sleep, if you can.”\n",
      "’Childe Harold’s Pilgrimage, Can_. 4. ‘The last words she whispered in a hissing tone, close to his ear.’ ‘I’d rather, ten thousand times,’ said the woman, “live in the dirtiesthole at the quarters, than be under your hoof!” ‘You lie, you jade! I’ll be up to my word. Either\n",
      "When Legree brought Emmeline to the house, all the smouldering embers of womanly feeling flashed up in the worn heart of Cassy. Legree, in a fury, swore that she should be put to field service, if she would not be peaceable. Cassy, with proud scorn, declared she would go to the field. And she worked there one day, as we have described, to show how perfectly she purposefullyscorned the threat.\n",
      "Legree was born of a hard-tempered sire, on whom that                gentle woman had wasted a world of unvalued love. Boisterous, unruly, and tyrannical, he broke from her, to seek his fortunes at sea. He never came home but once, after; and then, his mother, with the yearning of aHeart that must love something, and has nothing else to love, clung to him.\n",
      "Legree was often wont, when in a gracious humor, to get his two sable drivers into his sitting-room, and, after warming them up with whiskey, amuse himself by setting them to singing, dancing or fighting. Cassy was returning from her ministrations to poor Tom, that she heard the sound of wild, pathetic singing, whooping, halloing, and singing.\n",
      "Cassy entered the room and found Emmeline sitting, pale with fear, in the furthest corner of it. “O Cassy, is it you? I’m so glad you’ve come! I was afraid it was—. O, you don’t know what a horrid noise there has been, down                stairs, all this evening!” “I ought to know,” said Cassy. ‘I�\n",
      "“I wish I’d never been born!” said Emmeline, wringing her hands. “That’s an old wish with me,’ said Cassy, “I’ve got used to wishing that.” “The sisters told me things, when I was in the convent, thatmake me afraid to die. If it would only be the end of us, why, then—”\n",
      "“I’ll let him off at what he’s got,” said Legree; “but he shall promise better fashions.” “That he won’t do,’ said Cassy. “No, he won't,“ said Cassie. Legree, though he talked so stoutly to Cassy, still sallied forth from the house with a degree of misgiving which was not\n",
      "“I know ye can do dreadful things; but,” said Tom, “but, after ye’vekilled the body, there an’ no moreYe can do.” “There’s all.                ETERNITY to come, after that!” replied Legree. “I’ll give ye all the work of my hands, all my time, all. my strength; but my soul I won’\n",
      "“Well, have it your own way,” he said, doggedly, to Cassy. “Let him go! Let me alone                to get him fit to be in the field again. Isn’t it just as I told you?”\n",
      "“No matter with what solemnities he may have been devoted upon the. purposefullyaltar of slavery, the moment he touches the sacred soil of Britain, the. God sink together in the dust, and he stands redeemed, regenerated, and disenthralled, by the irresistible genius of universal.emancipation.”—_Curran_.[1]\n",
      "George and Eliza Harris, with their child, were driven privately into Sandusky. They were preparatory to taking their last passage on the lake. Jim, with his old mother, was forwarded separately; and a night or two after, George andEliza were driven to Sandusky, and put in a hospital.\n",
      "Eliza Smyth and her husband, George, were fleeing with their young son, Harry. Mrs. Smyth, a respectable woman from the settlement in Canada, had consented to appear as the aunt of little Harry. George had been allowed to remain, the two last days, under her sole charge; and an extra amount of petting, jointed to an indefinite amount of seed-cakes and candy.\n",
      "George and his wife stood arm in arm as the boat neared the small town of Amherstberg, in Canada. They stood still till the boat had cleared; and then, with tears and embracings, the husband and wife, with their wondering child in their arms, knelt down and lifted their hearts to God!\n",
      "The martyr, when faced even by a death of bodily anguish and horror, finds in the very terror of his doom a strong stimulant and tonic. Tom thought he could bear torture and fire, with the vision of Jesus and heaven but just a step beyond; but when he was gone, the pain of his bruised and weary limbs came back. The gloomiest problem of this mysterious life was constantly before Tom's eyes.\n",
      "“You were a fool,” said Legree, “for I meant to do well by you, when I bought you. You might have been better off than Sambo, or Quimbo either, and had easy times.” “You see the Lord an’t going to help you; if he had been, he wouldn’ve let _me_ get you! This yer religion is all a mess of lying                trumper\n",
      ", who called me here below,ipient    Shall be forever mine.” “When we’ve been there ten thousand years,                   Bright shining like the sun,                We’re no less days to sing God’s praise   Than when we first begun’ “And when this mortal life shall fail,774   And flesh and sense shall cease,                I shall possess within the veil a life of joy and peace\n",
      "“On My Journey Home,” hymn by Isaac Watts, found in many of the southern country songbooks of the ante bellum period. “So ho!” said Legree to himself, “he thinks so, does he? How I hate these cursed Methodist hymns! Here, you nigger,’ said he, coming out upon Tom, and raising his riding-whip.\n",
      "Of all races of the earth, none have received the Gospel with such eager docility as the African. The African's reliance and unquestioning faith, which is its foundation, is more a native element in this race than any other. A stray seed of truth, borne on some breeze into hearts the most ignorant, has sprung up into fruit.\n",
      "“Misse Cassy,” said Tom, in a hesitating tone, after surveying her in silence, “if ye only could get away from here, I’d ’vise ye and Emmeline to do it; that is, if ye could go without blood-guiltiness.” Cassy stood silent, while large, heavy tears dropped from her downcast eyes. “When we can love and pray over all,\n",
      "Cassy had often revolved, for hours, all possible or probable schemes of escape, and dismissed them all, as hopeless and impracticable. But at this moment there flashed through her mind a plan, so simple and Feasible in all its details, as to awaken an instant hope.\n",
      "Stratagem 4:19: “The way of the wicked is as darkness; he knoweth not at what he                stumbleth.” ‘The sound of violent blows, used to ring through that old garret, and the wailings and groans of despair’ ‘To be sure, who are they? I’d like to have you tell me,’ said Simon, “With an oath, I suppose,\n",
      "The influence of Cassy over Legree was of a strange and singular kind. Legree had had the slumbering moral elements in him roused by his encounters with Tom. But still there was a thrill and commotion of the dark,inner world, produced by every word.\n",
      "“You don’t believe in ghosts, do you, Cass?” said he, taking the tongs and settling the fire. “I thought you’d more sense than to let noises purposefullyscare _you_.” “No matter what I believe,” says Cassy, sullenly. ‘Fellows used to try to frighten me with their yarns at sea,’ said Legree. �\n",
      "Cassy and Emeline had been on the best of terms with Legree. Cassy had cajoled him to take her with him to a neighboring town. She had accumulated a stock of provisions sufficient to afford subsistence for some time. She then transferred article by article, a greater part of her and Emmmeline’s wardrobe.\n",
      "Cassy and Emmeline escaped from the plantation. They were pursued by Legree, the overseer of the plantation, who pursued them through the swamps. Cassy planned a diversion to avoid the pursuers. She and EmMeline waded into a deep creek to hide from Legree. Legree followed them, but Cassy led the way.\n",
      "Cassy and Emmeline went down to the swamp, followed by every servant in the house. The whooping and shouts of their pursuers were still filling the air. Cassy took a key from the pocket of a coat that Legree had thrown down in his hurry. She unlocked the desk, took from it a roll of bills, which she counted rapidly.\n",
      "Legree, cursing his ill luck, and vowing dire vengeance on the morrow, went to bed. Emmeline fell into a doze, and slept some time. She was awakened by loud shouts and outcries, the tramp of horses’ feet, and the baying of dogs.\n",
      "This poem does not appear in the collected works of William Cullen-Bryant. It was probably copied from a newspaper or magazine. An eternal, inexorable lapse of moments is ever hurrying the day of the evil to an eternal night. “Deem not the just by Heaven forgot! Though life its common gifts deny”\n",
      "Cassy placed her ear at the knot-hole; and, as the morning air blew directly towards the house, she could overhear a good deal of the conversation. The men are, two of them, overseers of plantations in the vicinity; and others were some of Legree’s associates at the tavern-bar of a neighboring city, who had come for the interest of the sport. A grave sneer overcast the dark, severe gravity of her face,\n",
      "Tom heard the message with a forewarning heart. He knew the deadly character of the man he had to deal with, and his despotic power. But he felt strong in God to meet death, rather than betray the helpless. He sat his basket down by the row, and, looking up, said, “Into thyhands I commend my spirit! Thou hast redeemed me’\n",
      "Mas’r, if you was sick, or in trouble, or dying, and I could save ye, I’d give ’em freely, as the Lord gave his forme. O, Mas'r! don’t bring this great sin on your soul! It will hurt you more than ’t will me! Do the worst you can, my troubles’ll be over soon; but, if ye don�’n repent,\n",
      "Two men stole up to the house, and asked for a drink of brandy of Legree. One of them brought it back, and poured it down Tom's throat. “O, Tom!” said Quimbo, “we’s been awful wicked to ye.” “I forgive ye, with all my heart!’ said Tom, faintly.\n",
      "George Shelby, a young man, bought a young boy, named Tom, in New Orleans. The boy was lost among the swamps of the Red River. George Shelby sent a letter of inquiry to a lawyer who did business for the St. Clares. The lawyer said he knew nothing of the matter, and sold the boy at a public auction. George went to New Orleans to find out where Tom was, and to buy him back.\n",
      "Tom had been lying two days since the fatal night, not suffering, for every nerve of suffering was blunted and destroyed. He lay, for the most part, in a quiet stupor; for the laws of a powerful and well-knit frame would not at once release the imprisoned spirit. By stealth, there had been there, in the darkness of the night, poor desolated creatures, who stole from their scanty hours’ rest, to give him some of\n",
      "“The old Satan!” said George, in his indignation. “It’s a comfort tothink the devil will pay _him_ for this, some of these days!’“O, don’t!—oh, ye mustn’T!“ said Tom, grasping his hand; “he’'s a poorMis’able critter! it’�s awful to think on ’t\n",
      "George turned, and, with one hugelyindignant blow, knocked Legree flat upon his face. He stood with wrath and defiance, blazing with wrath. The negroes looked dejected, and walked off in silence.“Witness, eternal God!” said George, kneeling on the grave of his poor friend. “oh, witness, that, from this hour, I will do what one man can_ to drive out this curse of slavery from my land!�\n",
      "Ghostly legends were uncommonly rife, about                this time, among the servants on Legree’s place. It was whisperingly asserted that footsteps, in the dead of night, had been heard descending the garret stairs, and patrolling the house. Legree could not help overhearing this whispering; and it was all the more exciting to him, from the pains that were taken to conceal it from him.\n",
      "Cassy was dressed after the manner of the Creole Spanish ladies. A small black bonnet on her head, covered by a veil thick with embroidery, concealed her face. She was to personate the character of a Creole lady, and Emmeline that of her servant. Cassy kept her room and bed on pretext of illness, during her illness.\n",
      "George Harris met a French lady named Cassy on a trip on a steamboat with his brother. Cassy’s chair was often placed at her state-room door; and Cassy, as she sat upon the guards, could hear their conversation. She began to think that he suspected something; finally resolved to throw herself entirely on his generosity, and trusted him with her whole history.\n",
      "“A treasure,” said George; “a beautiful, intelligent, amiable girl. Very pious. My mother had brought her up, and trained her as carefully, almost, as a daughter. She could read and write, embroider and sew,                beautifully; and was a beautiful singer.” “Do you know the names of the people he bought her of?” she asked. “A man of the name of Simmons, I\n",
      "George Shelby sent the bill of sale of Eliza to Cassy de Thoux. Cassy was able to trace the family to Montreal. George and Eliza had now been five years free. They lived in a small, neat tenement in the outskirts of Montreal. Little Harry was put to a good school.\n",
      "The note-book of a missionary, among the Canadian fugitives, contains truth stranger than fiction. The bond between mother and daughter grew up through the constant reading and affection. Cassy, who keeps little Eliza on her lap, squeezes the little thing in a manner that rather.astonishes her, and obstinately refuses to have her mouth stuffed with cake.\n",
      "Cassy de Thoux was the daughter of an African-American woman. Her brother, George, was born into slavery. George was educated in France. He wrote to a friend about his plans for the future. He said he had no desire to mingle with the whites in the U.S.\n",
      "“Do you say that I am deserting my enslaved brethren? I think not. If Iforget them one hour, one moment of my life, so may God forget me! But, what can I do for them, here? Can I break their chains? No, not as an individual; but, let me go and form part of a nation, which shall have a voice in the councils of nations.”\n",
      "“You will call me an enthusiast: you will tell me that I have not well                considered what I am undertaking. But I have considered, and counted                the cost. I go to Liberia_, not as an Elysium of romance, but as to _a field of work_. I expect to work with both hands. This is what I go for; and in this I am quite sure I shall not be disappointed.” George Shelby.\n",
      "George Shelby had written to his mother merely a line, stating the day                that she might expect him home. Of the death scene of his old friend he had not the heart to write. He had tried several times, and only succeeded in half choking himself. Mrs. Shelby had consented to Polly's request that the bills in which her husband had been paid should be preserved to show her husband's memory.\n",
      "George Shelby, the partriarchal negro, who had grown gray and blind on the estate, rose, lifting his trembling hand, and said, “Let the Lord give us unto the Lord’s blessing, and thank us for the blessing of freedom” A month after this, all the servants of the Shelby estate were convened together in the great hall that ran through the house, to hear a few words from their young master. To the surprise of all, he\n",
      "George here gave a short narration of the scene of his death, and of his loving farewell to all on the place, and added, “It was on his grave, my friends, that I resolved, before God,. that I would never own another slave, while it was possible to free him”\n",
      "The writer has often been inquired of, by correspondents from different parts of the country, whether this narrative is a true one. Many of the sayings are word for word as heard herself, or reported to her by her personal friends. Some of the most deeply tragic and romantic incidents, have also their parallels in reality.\n",
      "The histories of Emmeline and Cassy may have many counterparts. The fairness of mind and generosity attributed to St. Clare are not without a parallel. The author hopes she has done justice to that nobility, generosity, and humanity, which in many cases characterize individuals at the South. She has endeavored to show the system fairly, in its best and worst phases.\n",
      "The writer has given only a faint shadow, a dim picture, of the anguish and despair that are, at this very moment, riving thousands of hearts, and driving a helpless and sensitive race to frenzy and despair. The people of the free states have defended and encouraged, and are more guilty for it, before God, than the South, because they have not the apology of education or custom.\n",
      "The writer asks: Do you believe in prayer? Do you pray for the heathen abroad? And pray for those distressed Christians whose whole chance of religious improvement is an accident of trade and sale. The writer has lived, for many years, on the frontier-line of slave-states, and has had great observation among those who were formerly slaves.\n",
      "The author gives the following statement of facts, on the authority ofProfessor C. E. Stowe, then of Lane Seminary, Ohio, with regard to slaves, now resident in Cincinnati. This is given to show thecapability of the race, even without any very particular assistance orencouragement.\n",
      "“Both North and South have been guilty before God; and the Christian church has a heavy account to answer. Not by combining together, to protect injustice and cruelty, to make a common capital of sin, is this Union to be saved” “Not surer is the eternal law by which the millstone sinks in the ocean, than that stronger law, by which injustice and Cruelty shall bring on nations the wrath of Almighty God!”\n"
     ]
    }
   ],
   "source": [
    "for i in full:\n",
    "    print(i)"
   ]
  },
  {
   "cell_type": "markdown",
   "metadata": {},
   "source": [
    "## End of project, hope you liked it :)"
   ]
  }
 ],
 "metadata": {
  "kernelspec": {
   "display_name": "Python 3",
   "language": "python",
   "name": "python3"
  },
  "language_info": {
   "codemirror_mode": {
    "name": "ipython",
    "version": 3
   },
   "file_extension": ".py",
   "mimetype": "text/x-python",
   "name": "python",
   "nbconvert_exporter": "python",
   "pygments_lexer": "ipython3",
   "version": "3.9.2"
  }
 },
 "nbformat": 4,
 "nbformat_minor": 4
}
